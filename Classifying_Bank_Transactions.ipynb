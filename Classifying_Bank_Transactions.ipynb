{
  "cells": [
    {
      "cell_type": "code",
      "execution_count": 42,
      "metadata": {
        "id": "XDBjDaWHY5Dr"
      },
      "outputs": [],
      "source": [
        "import pandas as pd\n",
        "import matplotlib.pyplot as plt\n",
        "import seaborn as sns\n",
        "from sklearn import svm"
      ]
    },
    {
      "cell_type": "code",
      "source": [
        "from google.colab import drive\n",
        "drive.mount(\"/content/drive\")"
      ],
      "metadata": {
        "colab": {
          "base_uri": "https://localhost:8080/"
        },
        "id": "bSx6UoeBZBkN",
        "outputId": "fa5a9e79-fd4c-4ac1-f29f-0ada3ac3995b"
      },
      "execution_count": 43,
      "outputs": [
        {
          "output_type": "stream",
          "name": "stdout",
          "text": [
            "Drive already mounted at /content/drive; to attempt to forcibly remount, call drive.mount(\"/content/drive\", force_remount=True).\n"
          ]
        }
      ]
    },
    {
      "cell_type": "code",
      "execution_count": 44,
      "metadata": {
        "id": "O7lKMUjSY5Dw"
      },
      "outputs": [],
      "source": [
        "df_features = pd.read_csv('/content/drive/MyDrive/bank_transaction_features.csv')"
      ]
    },
    {
      "cell_type": "code",
      "execution_count": 45,
      "metadata": {
        "colab": {
          "base_uri": "https://localhost:8080/",
          "height": 423
        },
        "id": "T0Y0neqNY5Dx",
        "outputId": "8ccd631b-be0e-441f-ff09-64860d32590d"
      },
      "outputs": [
        {
          "output_type": "execute_result",
          "data": {
            "text/plain": [
              "       bank_transaction_id         bank_transaction_description  \\\n",
              "0                 21786195                             citylink   \n",
              "1                 21786196                             citylink   \n",
              "2                 21786197                        1Jul19 OYSTER   \n",
              "3                 21786198                           travelodge   \n",
              "4                 21786199                        6Jul19 RINGGO   \n",
              "...                    ...                                  ...   \n",
              "12495             24140325                            COVERSURE   \n",
              "12496             24140326   DIRECTLINE INS FASTER PAYMENTS OUT   \n",
              "12497             24140327  SUNDRY DEBIT Direct Debit coversure   \n",
              "12498             24140328       17Aug19 insurance Direct Debit   \n",
              "12499             24140329             enterprise car insurance   \n",
              "\n",
              "       bank_transaction_amount bank_transaction_type  \n",
              "0                       -13.80                   MPO  \n",
              "1                       -13.14                   DEB  \n",
              "2                       -36.98                   DEB  \n",
              "3                       -75.73                   MPO  \n",
              "4                       -37.86                   CSH  \n",
              "...                        ...                   ...  \n",
              "12495                   -28.46                   FPO  \n",
              "12496                   -35.64                   FPO  \n",
              "12497                   -22.37                    DD  \n",
              "12498                   -23.11                    DD  \n",
              "12499                   -24.15                    DD  \n",
              "\n",
              "[12500 rows x 4 columns]"
            ],
            "text/html": [
              "\n",
              "  <div id=\"df-39c6437b-6e53-4198-ab9d-da03c8752ac3\">\n",
              "    <div class=\"colab-df-container\">\n",
              "      <div>\n",
              "<style scoped>\n",
              "    .dataframe tbody tr th:only-of-type {\n",
              "        vertical-align: middle;\n",
              "    }\n",
              "\n",
              "    .dataframe tbody tr th {\n",
              "        vertical-align: top;\n",
              "    }\n",
              "\n",
              "    .dataframe thead th {\n",
              "        text-align: right;\n",
              "    }\n",
              "</style>\n",
              "<table border=\"1\" class=\"dataframe\">\n",
              "  <thead>\n",
              "    <tr style=\"text-align: right;\">\n",
              "      <th></th>\n",
              "      <th>bank_transaction_id</th>\n",
              "      <th>bank_transaction_description</th>\n",
              "      <th>bank_transaction_amount</th>\n",
              "      <th>bank_transaction_type</th>\n",
              "    </tr>\n",
              "  </thead>\n",
              "  <tbody>\n",
              "    <tr>\n",
              "      <th>0</th>\n",
              "      <td>21786195</td>\n",
              "      <td>citylink</td>\n",
              "      <td>-13.80</td>\n",
              "      <td>MPO</td>\n",
              "    </tr>\n",
              "    <tr>\n",
              "      <th>1</th>\n",
              "      <td>21786196</td>\n",
              "      <td>citylink</td>\n",
              "      <td>-13.14</td>\n",
              "      <td>DEB</td>\n",
              "    </tr>\n",
              "    <tr>\n",
              "      <th>2</th>\n",
              "      <td>21786197</td>\n",
              "      <td>1Jul19 OYSTER</td>\n",
              "      <td>-36.98</td>\n",
              "      <td>DEB</td>\n",
              "    </tr>\n",
              "    <tr>\n",
              "      <th>3</th>\n",
              "      <td>21786198</td>\n",
              "      <td>travelodge</td>\n",
              "      <td>-75.73</td>\n",
              "      <td>MPO</td>\n",
              "    </tr>\n",
              "    <tr>\n",
              "      <th>4</th>\n",
              "      <td>21786199</td>\n",
              "      <td>6Jul19 RINGGO</td>\n",
              "      <td>-37.86</td>\n",
              "      <td>CSH</td>\n",
              "    </tr>\n",
              "    <tr>\n",
              "      <th>...</th>\n",
              "      <td>...</td>\n",
              "      <td>...</td>\n",
              "      <td>...</td>\n",
              "      <td>...</td>\n",
              "    </tr>\n",
              "    <tr>\n",
              "      <th>12495</th>\n",
              "      <td>24140325</td>\n",
              "      <td>COVERSURE</td>\n",
              "      <td>-28.46</td>\n",
              "      <td>FPO</td>\n",
              "    </tr>\n",
              "    <tr>\n",
              "      <th>12496</th>\n",
              "      <td>24140326</td>\n",
              "      <td>DIRECTLINE INS FASTER PAYMENTS OUT</td>\n",
              "      <td>-35.64</td>\n",
              "      <td>FPO</td>\n",
              "    </tr>\n",
              "    <tr>\n",
              "      <th>12497</th>\n",
              "      <td>24140327</td>\n",
              "      <td>SUNDRY DEBIT Direct Debit coversure</td>\n",
              "      <td>-22.37</td>\n",
              "      <td>DD</td>\n",
              "    </tr>\n",
              "    <tr>\n",
              "      <th>12498</th>\n",
              "      <td>24140328</td>\n",
              "      <td>17Aug19 insurance Direct Debit</td>\n",
              "      <td>-23.11</td>\n",
              "      <td>DD</td>\n",
              "    </tr>\n",
              "    <tr>\n",
              "      <th>12499</th>\n",
              "      <td>24140329</td>\n",
              "      <td>enterprise car insurance</td>\n",
              "      <td>-24.15</td>\n",
              "      <td>DD</td>\n",
              "    </tr>\n",
              "  </tbody>\n",
              "</table>\n",
              "<p>12500 rows × 4 columns</p>\n",
              "</div>\n",
              "      <button class=\"colab-df-convert\" onclick=\"convertToInteractive('df-39c6437b-6e53-4198-ab9d-da03c8752ac3')\"\n",
              "              title=\"Convert this dataframe to an interactive table.\"\n",
              "              style=\"display:none;\">\n",
              "        \n",
              "  <svg xmlns=\"http://www.w3.org/2000/svg\" height=\"24px\"viewBox=\"0 0 24 24\"\n",
              "       width=\"24px\">\n",
              "    <path d=\"M0 0h24v24H0V0z\" fill=\"none\"/>\n",
              "    <path d=\"M18.56 5.44l.94 2.06.94-2.06 2.06-.94-2.06-.94-.94-2.06-.94 2.06-2.06.94zm-11 1L8.5 8.5l.94-2.06 2.06-.94-2.06-.94L8.5 2.5l-.94 2.06-2.06.94zm10 10l.94 2.06.94-2.06 2.06-.94-2.06-.94-.94-2.06-.94 2.06-2.06.94z\"/><path d=\"M17.41 7.96l-1.37-1.37c-.4-.4-.92-.59-1.43-.59-.52 0-1.04.2-1.43.59L10.3 9.45l-7.72 7.72c-.78.78-.78 2.05 0 2.83L4 21.41c.39.39.9.59 1.41.59.51 0 1.02-.2 1.41-.59l7.78-7.78 2.81-2.81c.8-.78.8-2.07 0-2.86zM5.41 20L4 18.59l7.72-7.72 1.47 1.35L5.41 20z\"/>\n",
              "  </svg>\n",
              "      </button>\n",
              "      \n",
              "  <style>\n",
              "    .colab-df-container {\n",
              "      display:flex;\n",
              "      flex-wrap:wrap;\n",
              "      gap: 12px;\n",
              "    }\n",
              "\n",
              "    .colab-df-convert {\n",
              "      background-color: #E8F0FE;\n",
              "      border: none;\n",
              "      border-radius: 50%;\n",
              "      cursor: pointer;\n",
              "      display: none;\n",
              "      fill: #1967D2;\n",
              "      height: 32px;\n",
              "      padding: 0 0 0 0;\n",
              "      width: 32px;\n",
              "    }\n",
              "\n",
              "    .colab-df-convert:hover {\n",
              "      background-color: #E2EBFA;\n",
              "      box-shadow: 0px 1px 2px rgba(60, 64, 67, 0.3), 0px 1px 3px 1px rgba(60, 64, 67, 0.15);\n",
              "      fill: #174EA6;\n",
              "    }\n",
              "\n",
              "    [theme=dark] .colab-df-convert {\n",
              "      background-color: #3B4455;\n",
              "      fill: #D2E3FC;\n",
              "    }\n",
              "\n",
              "    [theme=dark] .colab-df-convert:hover {\n",
              "      background-color: #434B5C;\n",
              "      box-shadow: 0px 1px 3px 1px rgba(0, 0, 0, 0.15);\n",
              "      filter: drop-shadow(0px 1px 2px rgba(0, 0, 0, 0.3));\n",
              "      fill: #FFFFFF;\n",
              "    }\n",
              "  </style>\n",
              "\n",
              "      <script>\n",
              "        const buttonEl =\n",
              "          document.querySelector('#df-39c6437b-6e53-4198-ab9d-da03c8752ac3 button.colab-df-convert');\n",
              "        buttonEl.style.display =\n",
              "          google.colab.kernel.accessAllowed ? 'block' : 'none';\n",
              "\n",
              "        async function convertToInteractive(key) {\n",
              "          const element = document.querySelector('#df-39c6437b-6e53-4198-ab9d-da03c8752ac3');\n",
              "          const dataTable =\n",
              "            await google.colab.kernel.invokeFunction('convertToInteractive',\n",
              "                                                     [key], {});\n",
              "          if (!dataTable) return;\n",
              "\n",
              "          const docLinkHtml = 'Like what you see? Visit the ' +\n",
              "            '<a target=\"_blank\" href=https://colab.research.google.com/notebooks/data_table.ipynb>data table notebook</a>'\n",
              "            + ' to learn more about interactive tables.';\n",
              "          element.innerHTML = '';\n",
              "          dataTable['output_type'] = 'display_data';\n",
              "          await google.colab.output.renderOutput(dataTable, element);\n",
              "          const docLink = document.createElement('div');\n",
              "          docLink.innerHTML = docLinkHtml;\n",
              "          element.appendChild(docLink);\n",
              "        }\n",
              "      </script>\n",
              "    </div>\n",
              "  </div>\n",
              "  "
            ]
          },
          "metadata": {},
          "execution_count": 45
        }
      ],
      "source": [
        "df_features\n"
      ]
    },
    {
      "cell_type": "code",
      "execution_count": 46,
      "metadata": {
        "colab": {
          "base_uri": "https://localhost:8080/"
        },
        "id": "5xu8nn-JY5Dz",
        "outputId": "10c2205f-55f0-4096-88a1-4e8e14fd0fc9"
      },
      "outputs": [
        {
          "output_type": "stream",
          "name": "stdout",
          "text": [
            "<class 'pandas.core.frame.DataFrame'>\n",
            "RangeIndex: 12500 entries, 0 to 12499\n",
            "Data columns (total 4 columns):\n",
            " #   Column                        Non-Null Count  Dtype  \n",
            "---  ------                        --------------  -----  \n",
            " 0   bank_transaction_id           12500 non-null  int64  \n",
            " 1   bank_transaction_description  12369 non-null  object \n",
            " 2   bank_transaction_amount       12500 non-null  float64\n",
            " 3   bank_transaction_type         12500 non-null  object \n",
            "dtypes: float64(1), int64(1), object(2)\n",
            "memory usage: 390.8+ KB\n"
          ]
        }
      ],
      "source": [
        "df_features.info()"
      ]
    },
    {
      "cell_type": "code",
      "execution_count": 47,
      "metadata": {
        "colab": {
          "base_uri": "https://localhost:8080/",
          "height": 300
        },
        "id": "SgbJ2Xi0Y5Dz",
        "outputId": "3516b69e-8212-4bf6-c0e5-316cded836bc"
      },
      "outputs": [
        {
          "output_type": "execute_result",
          "data": {
            "text/plain": [
              "       bank_transaction_id  bank_transaction_amount\n",
              "count         1.250000e+04             12500.000000\n",
              "mean          2.226077e+07               -19.613017\n",
              "std           9.391952e+05                15.060147\n",
              "min           2.178620e+07              -102.590000\n",
              "25%           2.178932e+07               -28.022500\n",
              "50%           2.179244e+07               -19.040000\n",
              "75%           2.179557e+07                -4.687500\n",
              "max           2.414033e+07                -0.320000"
            ],
            "text/html": [
              "\n",
              "  <div id=\"df-92db315f-06cf-44ef-82fe-0eb6eebfc498\">\n",
              "    <div class=\"colab-df-container\">\n",
              "      <div>\n",
              "<style scoped>\n",
              "    .dataframe tbody tr th:only-of-type {\n",
              "        vertical-align: middle;\n",
              "    }\n",
              "\n",
              "    .dataframe tbody tr th {\n",
              "        vertical-align: top;\n",
              "    }\n",
              "\n",
              "    .dataframe thead th {\n",
              "        text-align: right;\n",
              "    }\n",
              "</style>\n",
              "<table border=\"1\" class=\"dataframe\">\n",
              "  <thead>\n",
              "    <tr style=\"text-align: right;\">\n",
              "      <th></th>\n",
              "      <th>bank_transaction_id</th>\n",
              "      <th>bank_transaction_amount</th>\n",
              "    </tr>\n",
              "  </thead>\n",
              "  <tbody>\n",
              "    <tr>\n",
              "      <th>count</th>\n",
              "      <td>1.250000e+04</td>\n",
              "      <td>12500.000000</td>\n",
              "    </tr>\n",
              "    <tr>\n",
              "      <th>mean</th>\n",
              "      <td>2.226077e+07</td>\n",
              "      <td>-19.613017</td>\n",
              "    </tr>\n",
              "    <tr>\n",
              "      <th>std</th>\n",
              "      <td>9.391952e+05</td>\n",
              "      <td>15.060147</td>\n",
              "    </tr>\n",
              "    <tr>\n",
              "      <th>min</th>\n",
              "      <td>2.178620e+07</td>\n",
              "      <td>-102.590000</td>\n",
              "    </tr>\n",
              "    <tr>\n",
              "      <th>25%</th>\n",
              "      <td>2.178932e+07</td>\n",
              "      <td>-28.022500</td>\n",
              "    </tr>\n",
              "    <tr>\n",
              "      <th>50%</th>\n",
              "      <td>2.179244e+07</td>\n",
              "      <td>-19.040000</td>\n",
              "    </tr>\n",
              "    <tr>\n",
              "      <th>75%</th>\n",
              "      <td>2.179557e+07</td>\n",
              "      <td>-4.687500</td>\n",
              "    </tr>\n",
              "    <tr>\n",
              "      <th>max</th>\n",
              "      <td>2.414033e+07</td>\n",
              "      <td>-0.320000</td>\n",
              "    </tr>\n",
              "  </tbody>\n",
              "</table>\n",
              "</div>\n",
              "      <button class=\"colab-df-convert\" onclick=\"convertToInteractive('df-92db315f-06cf-44ef-82fe-0eb6eebfc498')\"\n",
              "              title=\"Convert this dataframe to an interactive table.\"\n",
              "              style=\"display:none;\">\n",
              "        \n",
              "  <svg xmlns=\"http://www.w3.org/2000/svg\" height=\"24px\"viewBox=\"0 0 24 24\"\n",
              "       width=\"24px\">\n",
              "    <path d=\"M0 0h24v24H0V0z\" fill=\"none\"/>\n",
              "    <path d=\"M18.56 5.44l.94 2.06.94-2.06 2.06-.94-2.06-.94-.94-2.06-.94 2.06-2.06.94zm-11 1L8.5 8.5l.94-2.06 2.06-.94-2.06-.94L8.5 2.5l-.94 2.06-2.06.94zm10 10l.94 2.06.94-2.06 2.06-.94-2.06-.94-.94-2.06-.94 2.06-2.06.94z\"/><path d=\"M17.41 7.96l-1.37-1.37c-.4-.4-.92-.59-1.43-.59-.52 0-1.04.2-1.43.59L10.3 9.45l-7.72 7.72c-.78.78-.78 2.05 0 2.83L4 21.41c.39.39.9.59 1.41.59.51 0 1.02-.2 1.41-.59l7.78-7.78 2.81-2.81c.8-.78.8-2.07 0-2.86zM5.41 20L4 18.59l7.72-7.72 1.47 1.35L5.41 20z\"/>\n",
              "  </svg>\n",
              "      </button>\n",
              "      \n",
              "  <style>\n",
              "    .colab-df-container {\n",
              "      display:flex;\n",
              "      flex-wrap:wrap;\n",
              "      gap: 12px;\n",
              "    }\n",
              "\n",
              "    .colab-df-convert {\n",
              "      background-color: #E8F0FE;\n",
              "      border: none;\n",
              "      border-radius: 50%;\n",
              "      cursor: pointer;\n",
              "      display: none;\n",
              "      fill: #1967D2;\n",
              "      height: 32px;\n",
              "      padding: 0 0 0 0;\n",
              "      width: 32px;\n",
              "    }\n",
              "\n",
              "    .colab-df-convert:hover {\n",
              "      background-color: #E2EBFA;\n",
              "      box-shadow: 0px 1px 2px rgba(60, 64, 67, 0.3), 0px 1px 3px 1px rgba(60, 64, 67, 0.15);\n",
              "      fill: #174EA6;\n",
              "    }\n",
              "\n",
              "    [theme=dark] .colab-df-convert {\n",
              "      background-color: #3B4455;\n",
              "      fill: #D2E3FC;\n",
              "    }\n",
              "\n",
              "    [theme=dark] .colab-df-convert:hover {\n",
              "      background-color: #434B5C;\n",
              "      box-shadow: 0px 1px 3px 1px rgba(0, 0, 0, 0.15);\n",
              "      filter: drop-shadow(0px 1px 2px rgba(0, 0, 0, 0.3));\n",
              "      fill: #FFFFFF;\n",
              "    }\n",
              "  </style>\n",
              "\n",
              "      <script>\n",
              "        const buttonEl =\n",
              "          document.querySelector('#df-92db315f-06cf-44ef-82fe-0eb6eebfc498 button.colab-df-convert');\n",
              "        buttonEl.style.display =\n",
              "          google.colab.kernel.accessAllowed ? 'block' : 'none';\n",
              "\n",
              "        async function convertToInteractive(key) {\n",
              "          const element = document.querySelector('#df-92db315f-06cf-44ef-82fe-0eb6eebfc498');\n",
              "          const dataTable =\n",
              "            await google.colab.kernel.invokeFunction('convertToInteractive',\n",
              "                                                     [key], {});\n",
              "          if (!dataTable) return;\n",
              "\n",
              "          const docLinkHtml = 'Like what you see? Visit the ' +\n",
              "            '<a target=\"_blank\" href=https://colab.research.google.com/notebooks/data_table.ipynb>data table notebook</a>'\n",
              "            + ' to learn more about interactive tables.';\n",
              "          element.innerHTML = '';\n",
              "          dataTable['output_type'] = 'display_data';\n",
              "          await google.colab.output.renderOutput(dataTable, element);\n",
              "          const docLink = document.createElement('div');\n",
              "          docLink.innerHTML = docLinkHtml;\n",
              "          element.appendChild(docLink);\n",
              "        }\n",
              "      </script>\n",
              "    </div>\n",
              "  </div>\n",
              "  "
            ]
          },
          "metadata": {},
          "execution_count": 47
        }
      ],
      "source": [
        "df_features.describe()"
      ]
    },
    {
      "cell_type": "code",
      "execution_count": 48,
      "metadata": {
        "colab": {
          "base_uri": "https://localhost:8080/"
        },
        "id": "EIo8NB9GY5Dz",
        "outputId": "4fd429c2-b9d1-4e6c-9837-c05e5825c15f"
      },
      "outputs": [
        {
          "output_type": "execute_result",
          "data": {
            "text/plain": [
              "bank_transaction_id               0\n",
              "bank_transaction_description    131\n",
              "bank_transaction_amount           0\n",
              "bank_transaction_type             0\n",
              "dtype: int64"
            ]
          },
          "metadata": {},
          "execution_count": 48
        }
      ],
      "source": [
        "df_features.isnull().sum()"
      ]
    },
    {
      "cell_type": "code",
      "execution_count": 49,
      "metadata": {
        "id": "E6l2RmeTY5D0"
      },
      "outputs": [],
      "source": [
        "#df_new = df_features.dropna()"
      ]
    },
    {
      "cell_type": "code",
      "execution_count": 50,
      "metadata": {
        "id": "IQHUVlLtY5D0"
      },
      "outputs": [],
      "source": [
        "#df_new.isnull().sum()"
      ]
    },
    {
      "cell_type": "code",
      "execution_count": 51,
      "metadata": {
        "id": "WK0b9DJhY5D0"
      },
      "outputs": [],
      "source": [
        "df_1 = df_features.groupby('bank_transaction_type').nunique()"
      ]
    },
    {
      "cell_type": "code",
      "execution_count": 52,
      "metadata": {
        "colab": {
          "base_uri": "https://localhost:8080/",
          "height": 269
        },
        "id": "2KyoSLs2Y5D1",
        "outputId": "4a37869b-9659-4b4f-ea96-49c779d451ca"
      },
      "outputs": [
        {
          "output_type": "execute_result",
          "data": {
            "text/plain": [
              "                       bank_transaction_id  bank_transaction_description  \\\n",
              "bank_transaction_type                                                      \n",
              "CHG                                   2510                          1543   \n",
              "CSH                                   2041                          1686   \n",
              "DD                                    1108                           926   \n",
              "DEB                                   4678                          3899   \n",
              "FPO                                    679                           618   \n",
              "MPO                                   1484                          1370   \n",
              "\n",
              "                       bank_transaction_amount  \n",
              "bank_transaction_type                           \n",
              "CHG                                        211  \n",
              "CSH                                       1619  \n",
              "DD                                         827  \n",
              "DEB                                       3013  \n",
              "FPO                                        577  \n",
              "MPO                                       1260  "
            ],
            "text/html": [
              "\n",
              "  <div id=\"df-c5957a54-7983-4e55-9c12-780a78f8f479\">\n",
              "    <div class=\"colab-df-container\">\n",
              "      <div>\n",
              "<style scoped>\n",
              "    .dataframe tbody tr th:only-of-type {\n",
              "        vertical-align: middle;\n",
              "    }\n",
              "\n",
              "    .dataframe tbody tr th {\n",
              "        vertical-align: top;\n",
              "    }\n",
              "\n",
              "    .dataframe thead th {\n",
              "        text-align: right;\n",
              "    }\n",
              "</style>\n",
              "<table border=\"1\" class=\"dataframe\">\n",
              "  <thead>\n",
              "    <tr style=\"text-align: right;\">\n",
              "      <th></th>\n",
              "      <th>bank_transaction_id</th>\n",
              "      <th>bank_transaction_description</th>\n",
              "      <th>bank_transaction_amount</th>\n",
              "    </tr>\n",
              "    <tr>\n",
              "      <th>bank_transaction_type</th>\n",
              "      <th></th>\n",
              "      <th></th>\n",
              "      <th></th>\n",
              "    </tr>\n",
              "  </thead>\n",
              "  <tbody>\n",
              "    <tr>\n",
              "      <th>CHG</th>\n",
              "      <td>2510</td>\n",
              "      <td>1543</td>\n",
              "      <td>211</td>\n",
              "    </tr>\n",
              "    <tr>\n",
              "      <th>CSH</th>\n",
              "      <td>2041</td>\n",
              "      <td>1686</td>\n",
              "      <td>1619</td>\n",
              "    </tr>\n",
              "    <tr>\n",
              "      <th>DD</th>\n",
              "      <td>1108</td>\n",
              "      <td>926</td>\n",
              "      <td>827</td>\n",
              "    </tr>\n",
              "    <tr>\n",
              "      <th>DEB</th>\n",
              "      <td>4678</td>\n",
              "      <td>3899</td>\n",
              "      <td>3013</td>\n",
              "    </tr>\n",
              "    <tr>\n",
              "      <th>FPO</th>\n",
              "      <td>679</td>\n",
              "      <td>618</td>\n",
              "      <td>577</td>\n",
              "    </tr>\n",
              "    <tr>\n",
              "      <th>MPO</th>\n",
              "      <td>1484</td>\n",
              "      <td>1370</td>\n",
              "      <td>1260</td>\n",
              "    </tr>\n",
              "  </tbody>\n",
              "</table>\n",
              "</div>\n",
              "      <button class=\"colab-df-convert\" onclick=\"convertToInteractive('df-c5957a54-7983-4e55-9c12-780a78f8f479')\"\n",
              "              title=\"Convert this dataframe to an interactive table.\"\n",
              "              style=\"display:none;\">\n",
              "        \n",
              "  <svg xmlns=\"http://www.w3.org/2000/svg\" height=\"24px\"viewBox=\"0 0 24 24\"\n",
              "       width=\"24px\">\n",
              "    <path d=\"M0 0h24v24H0V0z\" fill=\"none\"/>\n",
              "    <path d=\"M18.56 5.44l.94 2.06.94-2.06 2.06-.94-2.06-.94-.94-2.06-.94 2.06-2.06.94zm-11 1L8.5 8.5l.94-2.06 2.06-.94-2.06-.94L8.5 2.5l-.94 2.06-2.06.94zm10 10l.94 2.06.94-2.06 2.06-.94-2.06-.94-.94-2.06-.94 2.06-2.06.94z\"/><path d=\"M17.41 7.96l-1.37-1.37c-.4-.4-.92-.59-1.43-.59-.52 0-1.04.2-1.43.59L10.3 9.45l-7.72 7.72c-.78.78-.78 2.05 0 2.83L4 21.41c.39.39.9.59 1.41.59.51 0 1.02-.2 1.41-.59l7.78-7.78 2.81-2.81c.8-.78.8-2.07 0-2.86zM5.41 20L4 18.59l7.72-7.72 1.47 1.35L5.41 20z\"/>\n",
              "  </svg>\n",
              "      </button>\n",
              "      \n",
              "  <style>\n",
              "    .colab-df-container {\n",
              "      display:flex;\n",
              "      flex-wrap:wrap;\n",
              "      gap: 12px;\n",
              "    }\n",
              "\n",
              "    .colab-df-convert {\n",
              "      background-color: #E8F0FE;\n",
              "      border: none;\n",
              "      border-radius: 50%;\n",
              "      cursor: pointer;\n",
              "      display: none;\n",
              "      fill: #1967D2;\n",
              "      height: 32px;\n",
              "      padding: 0 0 0 0;\n",
              "      width: 32px;\n",
              "    }\n",
              "\n",
              "    .colab-df-convert:hover {\n",
              "      background-color: #E2EBFA;\n",
              "      box-shadow: 0px 1px 2px rgba(60, 64, 67, 0.3), 0px 1px 3px 1px rgba(60, 64, 67, 0.15);\n",
              "      fill: #174EA6;\n",
              "    }\n",
              "\n",
              "    [theme=dark] .colab-df-convert {\n",
              "      background-color: #3B4455;\n",
              "      fill: #D2E3FC;\n",
              "    }\n",
              "\n",
              "    [theme=dark] .colab-df-convert:hover {\n",
              "      background-color: #434B5C;\n",
              "      box-shadow: 0px 1px 3px 1px rgba(0, 0, 0, 0.15);\n",
              "      filter: drop-shadow(0px 1px 2px rgba(0, 0, 0, 0.3));\n",
              "      fill: #FFFFFF;\n",
              "    }\n",
              "  </style>\n",
              "\n",
              "      <script>\n",
              "        const buttonEl =\n",
              "          document.querySelector('#df-c5957a54-7983-4e55-9c12-780a78f8f479 button.colab-df-convert');\n",
              "        buttonEl.style.display =\n",
              "          google.colab.kernel.accessAllowed ? 'block' : 'none';\n",
              "\n",
              "        async function convertToInteractive(key) {\n",
              "          const element = document.querySelector('#df-c5957a54-7983-4e55-9c12-780a78f8f479');\n",
              "          const dataTable =\n",
              "            await google.colab.kernel.invokeFunction('convertToInteractive',\n",
              "                                                     [key], {});\n",
              "          if (!dataTable) return;\n",
              "\n",
              "          const docLinkHtml = 'Like what you see? Visit the ' +\n",
              "            '<a target=\"_blank\" href=https://colab.research.google.com/notebooks/data_table.ipynb>data table notebook</a>'\n",
              "            + ' to learn more about interactive tables.';\n",
              "          element.innerHTML = '';\n",
              "          dataTable['output_type'] = 'display_data';\n",
              "          await google.colab.output.renderOutput(dataTable, element);\n",
              "          const docLink = document.createElement('div');\n",
              "          docLink.innerHTML = docLinkHtml;\n",
              "          element.appendChild(docLink);\n",
              "        }\n",
              "      </script>\n",
              "    </div>\n",
              "  </div>\n",
              "  "
            ]
          },
          "metadata": {},
          "execution_count": 52
        }
      ],
      "source": [
        "df_1"
      ]
    },
    {
      "cell_type": "code",
      "execution_count": 66,
      "metadata": {
        "id": "z6VKIOCYY5D4"
      },
      "outputs": [],
      "source": []
    },
    {
      "cell_type": "code",
      "execution_count": 67,
      "metadata": {
        "id": "xETdeQSmY5D5"
      },
      "outputs": [],
      "source": [
        "df_description = df_features['bank_transaction_description']"
      ]
    },
    {
      "cell_type": "code",
      "execution_count": 68,
      "metadata": {
        "colab": {
          "base_uri": "https://localhost:8080/"
        },
        "id": "FcB1FTvYY5D5",
        "outputId": "78fb207e-44aa-478f-d565-e1f00968fbe5"
      },
      "outputs": [
        {
          "output_type": "execute_result",
          "data": {
            "text/plain": [
              "0                                   citylink\n",
              "1                                   citylink\n",
              "2                              1Jul19 OYSTER\n",
              "3                                 travelodge\n",
              "4                              6Jul19 RINGGO\n",
              "                        ...                 \n",
              "12495                              COVERSURE\n",
              "12496     DIRECTLINE INS FASTER PAYMENTS OUT\n",
              "12497    SUNDRY DEBIT Direct Debit coversure\n",
              "12498         17Aug19 insurance Direct Debit\n",
              "12499               enterprise car insurance\n",
              "Name: bank_transaction_description, Length: 12500, dtype: object"
            ]
          },
          "metadata": {},
          "execution_count": 68
        }
      ],
      "source": [
        "df_description"
      ]
    },
    {
      "cell_type": "code",
      "execution_count": 69,
      "metadata": {
        "colab": {
          "base_uri": "https://localhost:8080/"
        },
        "id": "CX7oJJu-Y5D5",
        "outputId": "df3a92b0-d61f-454e-f9c8-c523591d825c"
      },
      "outputs": [
        {
          "output_type": "execute_result",
          "data": {
            "text/plain": [
              "0                                   citylink\n",
              "1                                   citylink\n",
              "2                              1jul19 oyster\n",
              "3                                 travelodge\n",
              "4                              6jul19 ringgo\n",
              "                        ...                 \n",
              "12495                              coversure\n",
              "12496     directline ins faster payments out\n",
              "12497    sundry debit direct debit coversure\n",
              "12498         17aug19 insurance direct debit\n",
              "12499               enterprise car insurance\n",
              "Name: bank_transaction_description, Length: 12500, dtype: object"
            ]
          },
          "metadata": {},
          "execution_count": 69
        }
      ],
      "source": [
        "df_description.str.lower()"
      ]
    },
    {
      "cell_type": "code",
      "source": [
        "import nltk\n",
        "nltk.download('stopwords')"
      ],
      "metadata": {
        "colab": {
          "base_uri": "https://localhost:8080/"
        },
        "id": "A-CNN29ecs8u",
        "outputId": "988186d2-dbac-439e-9580-d3217b38ddea"
      },
      "execution_count": 70,
      "outputs": [
        {
          "output_type": "stream",
          "name": "stderr",
          "text": [
            "[nltk_data] Downloading package stopwords to /root/nltk_data...\n",
            "[nltk_data]   Unzipping corpora/stopwords.zip.\n"
          ]
        },
        {
          "output_type": "execute_result",
          "data": {
            "text/plain": [
              "True"
            ]
          },
          "metadata": {},
          "execution_count": 70
        }
      ]
    },
    {
      "cell_type": "code",
      "execution_count": 71,
      "metadata": {
        "id": "eGix8fKIY5D5"
      },
      "outputs": [],
      "source": [
        "from nltk.corpus import stopwords\n",
        "stop = stopwords.words('english')"
      ]
    },
    {
      "cell_type": "code",
      "execution_count": 72,
      "metadata": {
        "id": "G3e4x4U6Y5D5"
      },
      "outputs": [],
      "source": [
        "pattern = '[0-9]'"
      ]
    },
    {
      "cell_type": "code",
      "execution_count": 73,
      "metadata": {
        "id": "OpNoTTKYY5D6"
      },
      "outputs": [],
      "source": [
        "import re"
      ]
    },
    {
      "cell_type": "code",
      "execution_count": 74,
      "metadata": {
        "id": "yKZvh-d2Y5D6"
      },
      "outputs": [],
      "source": [
        "df_description = df_description.str.replace(r'[^a-zA-Z ]\\s?',r'',regex=True)"
      ]
    },
    {
      "cell_type": "code",
      "execution_count": 75,
      "metadata": {
        "colab": {
          "base_uri": "https://localhost:8080/"
        },
        "id": "LDRHwM4YY5D6",
        "outputId": "a65a7256-ea47-45cb-9e70-e50018079533"
      },
      "outputs": [
        {
          "output_type": "execute_result",
          "data": {
            "text/plain": [
              "0                                   citylink\n",
              "1                                   citylink\n",
              "2                                  JulOYSTER\n",
              "3                                 travelodge\n",
              "4                                  JulRINGGO\n",
              "                        ...                 \n",
              "12495                              COVERSURE\n",
              "12496     DIRECTLINE INS FASTER PAYMENTS OUT\n",
              "12497    SUNDRY DEBIT Direct Debit coversure\n",
              "12498              Auginsurance Direct Debit\n",
              "12499               enterprise car insurance\n",
              "Name: bank_transaction_description, Length: 12500, dtype: object"
            ]
          },
          "metadata": {},
          "execution_count": 75
        }
      ],
      "source": [
        "df_description"
      ]
    },
    {
      "cell_type": "code",
      "execution_count": 76,
      "metadata": {
        "id": "X5nxQmx9Y5D6"
      },
      "outputs": [],
      "source": [
        "df_description =df_description.astype(str)"
      ]
    },
    {
      "cell_type": "code",
      "execution_count": 77,
      "metadata": {
        "colab": {
          "base_uri": "https://localhost:8080/"
        },
        "id": "Xc4qK9x_Y5D6",
        "outputId": "ae0e4e05-d67e-4ab0-cae5-d46e070e980d"
      },
      "outputs": [
        {
          "output_type": "execute_result",
          "data": {
            "text/plain": [
              "0                                   citylink\n",
              "1                                   citylink\n",
              "2                                  JulOYSTER\n",
              "3                                 travelodge\n",
              "4                                  JulRINGGO\n",
              "                        ...                 \n",
              "12495                              COVERSURE\n",
              "12496     DIRECTLINE INS FASTER PAYMENTS OUT\n",
              "12497    SUNDRY DEBIT Direct Debit coversure\n",
              "12498              Auginsurance Direct Debit\n",
              "12499               enterprise car insurance\n",
              "Name: bank_transaction_description, Length: 12500, dtype: object"
            ]
          },
          "metadata": {},
          "execution_count": 77
        }
      ],
      "source": [
        "df_description"
      ]
    },
    {
      "cell_type": "code",
      "execution_count": 78,
      "metadata": {
        "id": "ZRe9S7cNY5D7"
      },
      "outputs": [],
      "source": [
        "from sklearn.feature_extraction.text import CountVectorizer"
      ]
    },
    {
      "cell_type": "code",
      "execution_count": 79,
      "metadata": {
        "id": "rXBFNFadY5D7"
      },
      "outputs": [],
      "source": [
        "vectorizer = CountVectorizer()"
      ]
    },
    {
      "cell_type": "code",
      "execution_count": 80,
      "metadata": {
        "colab": {
          "base_uri": "https://localhost:8080/",
          "height": 75
        },
        "id": "-Up06r1EY5D7",
        "outputId": "69656930-1faf-4d6d-d94b-5e22847280bd"
      },
      "outputs": [
        {
          "output_type": "execute_result",
          "data": {
            "text/plain": [
              "CountVectorizer()"
            ],
            "text/html": [
              "<style>#sk-container-id-1 {color: black;background-color: white;}#sk-container-id-1 pre{padding: 0;}#sk-container-id-1 div.sk-toggleable {background-color: white;}#sk-container-id-1 label.sk-toggleable__label {cursor: pointer;display: block;width: 100%;margin-bottom: 0;padding: 0.3em;box-sizing: border-box;text-align: center;}#sk-container-id-1 label.sk-toggleable__label-arrow:before {content: \"▸\";float: left;margin-right: 0.25em;color: #696969;}#sk-container-id-1 label.sk-toggleable__label-arrow:hover:before {color: black;}#sk-container-id-1 div.sk-estimator:hover label.sk-toggleable__label-arrow:before {color: black;}#sk-container-id-1 div.sk-toggleable__content {max-height: 0;max-width: 0;overflow: hidden;text-align: left;background-color: #f0f8ff;}#sk-container-id-1 div.sk-toggleable__content pre {margin: 0.2em;color: black;border-radius: 0.25em;background-color: #f0f8ff;}#sk-container-id-1 input.sk-toggleable__control:checked~div.sk-toggleable__content {max-height: 200px;max-width: 100%;overflow: auto;}#sk-container-id-1 input.sk-toggleable__control:checked~label.sk-toggleable__label-arrow:before {content: \"▾\";}#sk-container-id-1 div.sk-estimator input.sk-toggleable__control:checked~label.sk-toggleable__label {background-color: #d4ebff;}#sk-container-id-1 div.sk-label input.sk-toggleable__control:checked~label.sk-toggleable__label {background-color: #d4ebff;}#sk-container-id-1 input.sk-hidden--visually {border: 0;clip: rect(1px 1px 1px 1px);clip: rect(1px, 1px, 1px, 1px);height: 1px;margin: -1px;overflow: hidden;padding: 0;position: absolute;width: 1px;}#sk-container-id-1 div.sk-estimator {font-family: monospace;background-color: #f0f8ff;border: 1px dotted black;border-radius: 0.25em;box-sizing: border-box;margin-bottom: 0.5em;}#sk-container-id-1 div.sk-estimator:hover {background-color: #d4ebff;}#sk-container-id-1 div.sk-parallel-item::after {content: \"\";width: 100%;border-bottom: 1px solid gray;flex-grow: 1;}#sk-container-id-1 div.sk-label:hover label.sk-toggleable__label {background-color: #d4ebff;}#sk-container-id-1 div.sk-serial::before {content: \"\";position: absolute;border-left: 1px solid gray;box-sizing: border-box;top: 0;bottom: 0;left: 50%;z-index: 0;}#sk-container-id-1 div.sk-serial {display: flex;flex-direction: column;align-items: center;background-color: white;padding-right: 0.2em;padding-left: 0.2em;position: relative;}#sk-container-id-1 div.sk-item {position: relative;z-index: 1;}#sk-container-id-1 div.sk-parallel {display: flex;align-items: stretch;justify-content: center;background-color: white;position: relative;}#sk-container-id-1 div.sk-item::before, #sk-container-id-1 div.sk-parallel-item::before {content: \"\";position: absolute;border-left: 1px solid gray;box-sizing: border-box;top: 0;bottom: 0;left: 50%;z-index: -1;}#sk-container-id-1 div.sk-parallel-item {display: flex;flex-direction: column;z-index: 1;position: relative;background-color: white;}#sk-container-id-1 div.sk-parallel-item:first-child::after {align-self: flex-end;width: 50%;}#sk-container-id-1 div.sk-parallel-item:last-child::after {align-self: flex-start;width: 50%;}#sk-container-id-1 div.sk-parallel-item:only-child::after {width: 0;}#sk-container-id-1 div.sk-dashed-wrapped {border: 1px dashed gray;margin: 0 0.4em 0.5em 0.4em;box-sizing: border-box;padding-bottom: 0.4em;background-color: white;}#sk-container-id-1 div.sk-label label {font-family: monospace;font-weight: bold;display: inline-block;line-height: 1.2em;}#sk-container-id-1 div.sk-label-container {text-align: center;}#sk-container-id-1 div.sk-container {/* jupyter's `normalize.less` sets `[hidden] { display: none; }` but bootstrap.min.css set `[hidden] { display: none !important; }` so we also need the `!important` here to be able to override the default hidden behavior on the sphinx rendered scikit-learn.org. See: https://github.com/scikit-learn/scikit-learn/issues/21755 */display: inline-block !important;position: relative;}#sk-container-id-1 div.sk-text-repr-fallback {display: none;}</style><div id=\"sk-container-id-1\" class=\"sk-top-container\"><div class=\"sk-text-repr-fallback\"><pre>CountVectorizer()</pre><b>In a Jupyter environment, please rerun this cell to show the HTML representation or trust the notebook. <br />On GitHub, the HTML representation is unable to render, please try loading this page with nbviewer.org.</b></div><div class=\"sk-container\" hidden><div class=\"sk-item\"><div class=\"sk-estimator sk-toggleable\"><input class=\"sk-toggleable__control sk-hidden--visually\" id=\"sk-estimator-id-1\" type=\"checkbox\" checked><label for=\"sk-estimator-id-1\" class=\"sk-toggleable__label sk-toggleable__label-arrow\">CountVectorizer</label><div class=\"sk-toggleable__content\"><pre>CountVectorizer()</pre></div></div></div></div></div>"
            ]
          },
          "metadata": {},
          "execution_count": 80
        }
      ],
      "source": [
        "vectorizer"
      ]
    },
    {
      "cell_type": "code",
      "execution_count": 81,
      "metadata": {
        "colab": {
          "base_uri": "https://localhost:8080/",
          "height": 75
        },
        "id": "dFWz7ASoY5D7",
        "outputId": "97a4b86f-7d57-4978-b594-396b4334d561"
      },
      "outputs": [
        {
          "output_type": "execute_result",
          "data": {
            "text/plain": [
              "CountVectorizer()"
            ],
            "text/html": [
              "<style>#sk-container-id-2 {color: black;background-color: white;}#sk-container-id-2 pre{padding: 0;}#sk-container-id-2 div.sk-toggleable {background-color: white;}#sk-container-id-2 label.sk-toggleable__label {cursor: pointer;display: block;width: 100%;margin-bottom: 0;padding: 0.3em;box-sizing: border-box;text-align: center;}#sk-container-id-2 label.sk-toggleable__label-arrow:before {content: \"▸\";float: left;margin-right: 0.25em;color: #696969;}#sk-container-id-2 label.sk-toggleable__label-arrow:hover:before {color: black;}#sk-container-id-2 div.sk-estimator:hover label.sk-toggleable__label-arrow:before {color: black;}#sk-container-id-2 div.sk-toggleable__content {max-height: 0;max-width: 0;overflow: hidden;text-align: left;background-color: #f0f8ff;}#sk-container-id-2 div.sk-toggleable__content pre {margin: 0.2em;color: black;border-radius: 0.25em;background-color: #f0f8ff;}#sk-container-id-2 input.sk-toggleable__control:checked~div.sk-toggleable__content {max-height: 200px;max-width: 100%;overflow: auto;}#sk-container-id-2 input.sk-toggleable__control:checked~label.sk-toggleable__label-arrow:before {content: \"▾\";}#sk-container-id-2 div.sk-estimator input.sk-toggleable__control:checked~label.sk-toggleable__label {background-color: #d4ebff;}#sk-container-id-2 div.sk-label input.sk-toggleable__control:checked~label.sk-toggleable__label {background-color: #d4ebff;}#sk-container-id-2 input.sk-hidden--visually {border: 0;clip: rect(1px 1px 1px 1px);clip: rect(1px, 1px, 1px, 1px);height: 1px;margin: -1px;overflow: hidden;padding: 0;position: absolute;width: 1px;}#sk-container-id-2 div.sk-estimator {font-family: monospace;background-color: #f0f8ff;border: 1px dotted black;border-radius: 0.25em;box-sizing: border-box;margin-bottom: 0.5em;}#sk-container-id-2 div.sk-estimator:hover {background-color: #d4ebff;}#sk-container-id-2 div.sk-parallel-item::after {content: \"\";width: 100%;border-bottom: 1px solid gray;flex-grow: 1;}#sk-container-id-2 div.sk-label:hover label.sk-toggleable__label {background-color: #d4ebff;}#sk-container-id-2 div.sk-serial::before {content: \"\";position: absolute;border-left: 1px solid gray;box-sizing: border-box;top: 0;bottom: 0;left: 50%;z-index: 0;}#sk-container-id-2 div.sk-serial {display: flex;flex-direction: column;align-items: center;background-color: white;padding-right: 0.2em;padding-left: 0.2em;position: relative;}#sk-container-id-2 div.sk-item {position: relative;z-index: 1;}#sk-container-id-2 div.sk-parallel {display: flex;align-items: stretch;justify-content: center;background-color: white;position: relative;}#sk-container-id-2 div.sk-item::before, #sk-container-id-2 div.sk-parallel-item::before {content: \"\";position: absolute;border-left: 1px solid gray;box-sizing: border-box;top: 0;bottom: 0;left: 50%;z-index: -1;}#sk-container-id-2 div.sk-parallel-item {display: flex;flex-direction: column;z-index: 1;position: relative;background-color: white;}#sk-container-id-2 div.sk-parallel-item:first-child::after {align-self: flex-end;width: 50%;}#sk-container-id-2 div.sk-parallel-item:last-child::after {align-self: flex-start;width: 50%;}#sk-container-id-2 div.sk-parallel-item:only-child::after {width: 0;}#sk-container-id-2 div.sk-dashed-wrapped {border: 1px dashed gray;margin: 0 0.4em 0.5em 0.4em;box-sizing: border-box;padding-bottom: 0.4em;background-color: white;}#sk-container-id-2 div.sk-label label {font-family: monospace;font-weight: bold;display: inline-block;line-height: 1.2em;}#sk-container-id-2 div.sk-label-container {text-align: center;}#sk-container-id-2 div.sk-container {/* jupyter's `normalize.less` sets `[hidden] { display: none; }` but bootstrap.min.css set `[hidden] { display: none !important; }` so we also need the `!important` here to be able to override the default hidden behavior on the sphinx rendered scikit-learn.org. See: https://github.com/scikit-learn/scikit-learn/issues/21755 */display: inline-block !important;position: relative;}#sk-container-id-2 div.sk-text-repr-fallback {display: none;}</style><div id=\"sk-container-id-2\" class=\"sk-top-container\"><div class=\"sk-text-repr-fallback\"><pre>CountVectorizer()</pre><b>In a Jupyter environment, please rerun this cell to show the HTML representation or trust the notebook. <br />On GitHub, the HTML representation is unable to render, please try loading this page with nbviewer.org.</b></div><div class=\"sk-container\" hidden><div class=\"sk-item\"><div class=\"sk-estimator sk-toggleable\"><input class=\"sk-toggleable__control sk-hidden--visually\" id=\"sk-estimator-id-2\" type=\"checkbox\" checked><label for=\"sk-estimator-id-2\" class=\"sk-toggleable__label sk-toggleable__label-arrow\">CountVectorizer</label><div class=\"sk-toggleable__content\"><pre>CountVectorizer()</pre></div></div></div></div></div>"
            ]
          },
          "metadata": {},
          "execution_count": 81
        }
      ],
      "source": [
        "vectorizer.fit(df_description)"
      ]
    },
    {
      "cell_type": "code",
      "execution_count": 82,
      "metadata": {
        "colab": {
          "base_uri": "https://localhost:8080/"
        },
        "id": "prden22nY5EC",
        "outputId": "f0930706-aac8-4423-afdd-a872546add2d"
      },
      "outputs": [
        {
          "output_type": "stream",
          "name": "stdout",
          "text": [
            "  (0, 162)\t1\n",
            "  (1, 162)\t1\n",
            "  (2, 648)\t1\n",
            "  (3, 815)\t1\n",
            "  (4, 652)\t1\n",
            "  (5, 148)\t1\n",
            "  (5, 167)\t1\n",
            "  (5, 176)\t1\n",
            "  (5, 740)\t1\n",
            "  (5, 794)\t1\n",
            "  (6, 790)\t1\n",
            "  (7, 809)\t1\n",
            "  (8, 11)\t1\n",
            "  (8, 155)\t1\n",
            "  (8, 417)\t1\n",
            "  (8, 705)\t1\n",
            "  (8, 811)\t1\n",
            "  (8, 819)\t1\n",
            "  (9, 739)\t1\n",
            "  (10, 167)\t1\n",
            "  (10, 736)\t1\n",
            "  (10, 815)\t1\n",
            "  (11, 398)\t1\n",
            "  (12, 12)\t1\n",
            "  (12, 787)\t1\n",
            "  :\t:\n",
            "  (12492, 593)\t1\n",
            "  (12493, 176)\t1\n",
            "  (12493, 348)\t1\n",
            "  (12493, 349)\t1\n",
            "  (12493, 372)\t1\n",
            "  (12493, 580)\t1\n",
            "  (12494, 98)\t1\n",
            "  (12494, 176)\t1\n",
            "  (12494, 348)\t1\n",
            "  (12495, 171)\t1\n",
            "  (12496, 349)\t1\n",
            "  (12496, 369)\t1\n",
            "  (12496, 580)\t1\n",
            "  (12496, 738)\t1\n",
            "  (12496, 743)\t1\n",
            "  (12497, 171)\t1\n",
            "  (12497, 176)\t2\n",
            "  (12497, 348)\t1\n",
            "  (12497, 794)\t1\n",
            "  (12498, 63)\t1\n",
            "  (12498, 176)\t1\n",
            "  (12498, 348)\t1\n",
            "  (12499, 149)\t1\n",
            "  (12499, 363)\t1\n",
            "  (12499, 581)\t1\n"
          ]
        }
      ],
      "source": [
        "X = vectorizer.transform(df_description)\n",
        "print(X)"
      ]
    },
    {
      "cell_type": "code",
      "execution_count": 128,
      "metadata": {
        "colab": {
          "base_uri": "https://localhost:8080/"
        },
        "id": "MMzM26LLY5EC",
        "outputId": "8208c887-1fc9-495c-8d85-ea5f992a6fc8"
      },
      "outputs": [
        {
          "output_type": "execute_result",
          "data": {
            "text/plain": [
              "(12500, 845)"
            ]
          },
          "metadata": {},
          "execution_count": 128
        }
      ],
      "source": [
        "X.shape"
      ]
    },
    {
      "cell_type": "code",
      "execution_count": 129,
      "metadata": {
        "id": "hwxjgwYaY5ED"
      },
      "outputs": [],
      "source": [
        "x_train = X[:10001]"
      ]
    },
    {
      "cell_type": "code",
      "execution_count": 130,
      "metadata": {
        "id": "NG9MgeLuY5ED"
      },
      "outputs": [],
      "source": [
        "y_train = X[10002:]"
      ]
    },
    {
      "cell_type": "code",
      "execution_count": 131,
      "metadata": {
        "id": "ueeR1f-tY5EE"
      },
      "outputs": [],
      "source": [
        "from sklearn.preprocessing import LabelEncoder"
      ]
    },
    {
      "cell_type": "code",
      "execution_count": 132,
      "metadata": {
        "id": "I-Uo1_jUY5EE"
      },
      "outputs": [],
      "source": [
        "le = LabelEncoder()"
      ]
    },
    {
      "cell_type": "code",
      "execution_count": 133,
      "metadata": {
        "id": "Axp3N1ViY5EE"
      },
      "outputs": [],
      "source": [
        "X_T = le.fit_transform(x_test)"
      ]
    },
    {
      "cell_type": "code",
      "execution_count": 134,
      "metadata": {
        "colab": {
          "base_uri": "https://localhost:8080/"
        },
        "id": "gB1-y6mhY5EE",
        "outputId": "b30cf280-46de-46d4-c852-fe63a76e4c8a"
      },
      "outputs": [
        {
          "output_type": "execute_result",
          "data": {
            "text/plain": [
              "array([4, 4, 4, ..., 2, 2, 4])"
            ]
          },
          "metadata": {},
          "execution_count": 134
        }
      ],
      "source": [
        "X_T"
      ]
    },
    {
      "cell_type": "code",
      "execution_count": 135,
      "metadata": {
        "id": "q-2RSNQSY5EE"
      },
      "outputs": [],
      "source": [
        "Y_T = le.fit_transform(y_test)"
      ]
    },
    {
      "cell_type": "code",
      "execution_count": 136,
      "metadata": {
        "colab": {
          "base_uri": "https://localhost:8080/"
        },
        "id": "gvAC2dUxY5EF",
        "outputId": "64b6d696-bdf7-4c03-d40a-39f74829fe3c"
      },
      "outputs": [
        {
          "output_type": "execute_result",
          "data": {
            "text/plain": [
              "array([4, 4, 4, ..., 2, 2, 2])"
            ]
          },
          "metadata": {},
          "execution_count": 136
        }
      ],
      "source": [
        "Y_T"
      ]
    },
    {
      "cell_type": "code",
      "execution_count": 137,
      "metadata": {
        "id": "Sn8MYTVeY5EF"
      },
      "outputs": [],
      "source": [
        "from sklearn.svm import SVC\n",
        "from sklearn.metrics import accuracy_score, f1_score, precision_score, recall_score, classification_report, confusion_matrix"
      ]
    },
    {
      "cell_type": "code",
      "execution_count": 138,
      "metadata": {
        "id": "4Fe0KDGIY5EG"
      },
      "outputs": [],
      "source": [
        "model = SVC()"
      ]
    },
    {
      "cell_type": "code",
      "execution_count": 139,
      "metadata": {
        "colab": {
          "base_uri": "https://localhost:8080/",
          "height": 75
        },
        "id": "OawIQRaWY5EG",
        "outputId": "8850860f-49c3-4cc5-e0d0-7f0c3a6b03f6"
      },
      "outputs": [
        {
          "output_type": "execute_result",
          "data": {
            "text/plain": [
              "SVC()"
            ],
            "text/html": [
              "<style>#sk-container-id-5 {color: black;background-color: white;}#sk-container-id-5 pre{padding: 0;}#sk-container-id-5 div.sk-toggleable {background-color: white;}#sk-container-id-5 label.sk-toggleable__label {cursor: pointer;display: block;width: 100%;margin-bottom: 0;padding: 0.3em;box-sizing: border-box;text-align: center;}#sk-container-id-5 label.sk-toggleable__label-arrow:before {content: \"▸\";float: left;margin-right: 0.25em;color: #696969;}#sk-container-id-5 label.sk-toggleable__label-arrow:hover:before {color: black;}#sk-container-id-5 div.sk-estimator:hover label.sk-toggleable__label-arrow:before {color: black;}#sk-container-id-5 div.sk-toggleable__content {max-height: 0;max-width: 0;overflow: hidden;text-align: left;background-color: #f0f8ff;}#sk-container-id-5 div.sk-toggleable__content pre {margin: 0.2em;color: black;border-radius: 0.25em;background-color: #f0f8ff;}#sk-container-id-5 input.sk-toggleable__control:checked~div.sk-toggleable__content {max-height: 200px;max-width: 100%;overflow: auto;}#sk-container-id-5 input.sk-toggleable__control:checked~label.sk-toggleable__label-arrow:before {content: \"▾\";}#sk-container-id-5 div.sk-estimator input.sk-toggleable__control:checked~label.sk-toggleable__label {background-color: #d4ebff;}#sk-container-id-5 div.sk-label input.sk-toggleable__control:checked~label.sk-toggleable__label {background-color: #d4ebff;}#sk-container-id-5 input.sk-hidden--visually {border: 0;clip: rect(1px 1px 1px 1px);clip: rect(1px, 1px, 1px, 1px);height: 1px;margin: -1px;overflow: hidden;padding: 0;position: absolute;width: 1px;}#sk-container-id-5 div.sk-estimator {font-family: monospace;background-color: #f0f8ff;border: 1px dotted black;border-radius: 0.25em;box-sizing: border-box;margin-bottom: 0.5em;}#sk-container-id-5 div.sk-estimator:hover {background-color: #d4ebff;}#sk-container-id-5 div.sk-parallel-item::after {content: \"\";width: 100%;border-bottom: 1px solid gray;flex-grow: 1;}#sk-container-id-5 div.sk-label:hover label.sk-toggleable__label {background-color: #d4ebff;}#sk-container-id-5 div.sk-serial::before {content: \"\";position: absolute;border-left: 1px solid gray;box-sizing: border-box;top: 0;bottom: 0;left: 50%;z-index: 0;}#sk-container-id-5 div.sk-serial {display: flex;flex-direction: column;align-items: center;background-color: white;padding-right: 0.2em;padding-left: 0.2em;position: relative;}#sk-container-id-5 div.sk-item {position: relative;z-index: 1;}#sk-container-id-5 div.sk-parallel {display: flex;align-items: stretch;justify-content: center;background-color: white;position: relative;}#sk-container-id-5 div.sk-item::before, #sk-container-id-5 div.sk-parallel-item::before {content: \"\";position: absolute;border-left: 1px solid gray;box-sizing: border-box;top: 0;bottom: 0;left: 50%;z-index: -1;}#sk-container-id-5 div.sk-parallel-item {display: flex;flex-direction: column;z-index: 1;position: relative;background-color: white;}#sk-container-id-5 div.sk-parallel-item:first-child::after {align-self: flex-end;width: 50%;}#sk-container-id-5 div.sk-parallel-item:last-child::after {align-self: flex-start;width: 50%;}#sk-container-id-5 div.sk-parallel-item:only-child::after {width: 0;}#sk-container-id-5 div.sk-dashed-wrapped {border: 1px dashed gray;margin: 0 0.4em 0.5em 0.4em;box-sizing: border-box;padding-bottom: 0.4em;background-color: white;}#sk-container-id-5 div.sk-label label {font-family: monospace;font-weight: bold;display: inline-block;line-height: 1.2em;}#sk-container-id-5 div.sk-label-container {text-align: center;}#sk-container-id-5 div.sk-container {/* jupyter's `normalize.less` sets `[hidden] { display: none; }` but bootstrap.min.css set `[hidden] { display: none !important; }` so we also need the `!important` here to be able to override the default hidden behavior on the sphinx rendered scikit-learn.org. See: https://github.com/scikit-learn/scikit-learn/issues/21755 */display: inline-block !important;position: relative;}#sk-container-id-5 div.sk-text-repr-fallback {display: none;}</style><div id=\"sk-container-id-5\" class=\"sk-top-container\"><div class=\"sk-text-repr-fallback\"><pre>SVC()</pre><b>In a Jupyter environment, please rerun this cell to show the HTML representation or trust the notebook. <br />On GitHub, the HTML representation is unable to render, please try loading this page with nbviewer.org.</b></div><div class=\"sk-container\" hidden><div class=\"sk-item\"><div class=\"sk-estimator sk-toggleable\"><input class=\"sk-toggleable__control sk-hidden--visually\" id=\"sk-estimator-id-5\" type=\"checkbox\" checked><label for=\"sk-estimator-id-5\" class=\"sk-toggleable__label sk-toggleable__label-arrow\">SVC</label><div class=\"sk-toggleable__content\"><pre>SVC()</pre></div></div></div></div></div>"
            ]
          },
          "metadata": {},
          "execution_count": 139
        }
      ],
      "source": [
        "model.fit(x_train,X_T)"
      ]
    },
    {
      "cell_type": "code",
      "execution_count": 140,
      "metadata": {
        "id": "708y3pa3Y5EH"
      },
      "outputs": [],
      "source": [
        "predict = model.predict(x_train)"
      ]
    },
    {
      "cell_type": "code",
      "execution_count": 141,
      "metadata": {
        "colab": {
          "base_uri": "https://localhost:8080/"
        },
        "id": "AjEnbMfVY5EH",
        "outputId": "f2bd38d5-8de1-4502-c0d8-3444f340e40a"
      },
      "outputs": [
        {
          "output_type": "stream",
          "name": "stdout",
          "text": [
            "94.5005499450055\n"
          ]
        }
      ],
      "source": [
        "print(accuracy_score(X_T,predict)*100)"
      ]
    },
    {
      "cell_type": "code",
      "execution_count": 142,
      "metadata": {
        "colab": {
          "base_uri": "https://localhost:8080/"
        },
        "id": "Hc0fhFkmY5EH",
        "outputId": "3879048b-de39-4070-fc81-cee08e3ba061"
      },
      "outputs": [
        {
          "output_type": "execute_result",
          "data": {
            "text/plain": [
              "array([[2887,    0,    0,    4,  126],\n",
              "       [   0, 2248,    0,    0,    2],\n",
              "       [   1,    0,  880,   21,   18],\n",
              "       [  82,   11,   41, 1043,   58],\n",
              "       [  64,   45,    0,   77, 2393]])"
            ]
          },
          "metadata": {},
          "execution_count": 142
        }
      ],
      "source": [
        "CM_train = confusion_matrix(X_T, predict)\n",
        "CM_train"
      ]
    },
    {
      "cell_type": "code",
      "execution_count": 143,
      "metadata": {
        "id": "c_MSnCF9Y5EH"
      },
      "outputs": [],
      "source": [
        "predict_test = model.predict(y_train)"
      ]
    },
    {
      "cell_type": "code",
      "execution_count": 144,
      "metadata": {
        "colab": {
          "base_uri": "https://localhost:8080/"
        },
        "id": "PF-glILlY5EI",
        "outputId": "335acf70-977c-4f2d-d6eb-33a7cc84f975"
      },
      "outputs": [
        {
          "output_type": "stream",
          "name": "stdout",
          "text": [
            "91.79343474779824\n"
          ]
        }
      ],
      "source": [
        "print(accuracy_score(Y_T,predict_test)*100)"
      ]
    },
    {
      "cell_type": "code",
      "execution_count": 145,
      "metadata": {
        "colab": {
          "base_uri": "https://localhost:8080/"
        },
        "id": "-kDCmD8eY5EI",
        "outputId": "e61f1d3b-e3e9-40c2-df90-8d0faceb7aa8"
      },
      "outputs": [
        {
          "output_type": "execute_result",
          "data": {
            "text/plain": [
              "0.9154020895158649"
            ]
          },
          "metadata": {},
          "execution_count": 145
        }
      ],
      "source": [
        "Precision= precision_score(Y_T, predict_test,  average=\"macro\")\n",
        "Precision"
      ]
    },
    {
      "cell_type": "code",
      "execution_count": 146,
      "metadata": {
        "colab": {
          "base_uri": "https://localhost:8080/"
        },
        "id": "Xo0k1zZPY5EI",
        "outputId": "9d943c0c-0d54-4a36-f59d-e52f9eb6054c"
      },
      "outputs": [
        {
          "output_type": "execute_result",
          "data": {
            "text/plain": [
              "0.9128406736169836"
            ]
          },
          "metadata": {},
          "execution_count": 146
        }
      ],
      "source": [
        "Recall = recall_score(Y_T, predict_test,  average=\"macro\")\n",
        "Recall"
      ]
    },
    {
      "cell_type": "code",
      "execution_count": 147,
      "metadata": {
        "colab": {
          "base_uri": "https://localhost:8080/"
        },
        "id": "jHs5gyxAY5EI",
        "outputId": "e8c2ed95-97f0-49c2-d82a-c8f0e2a3a0fd"
      },
      "outputs": [
        {
          "output_type": "execute_result",
          "data": {
            "text/plain": [
              "0.9137805337127063"
            ]
          },
          "metadata": {},
          "execution_count": 147
        }
      ],
      "source": [
        "F1 = f1_score(Y_T, predict_test,  average=\"macro\")\n",
        "F1"
      ]
    },
    {
      "cell_type": "code",
      "execution_count": 148,
      "metadata": {
        "id": "Tuk0neQiY5EI"
      },
      "outputs": [],
      "source": [
        "CM_test = confusion_matrix(Y_T, predict_test)"
      ]
    },
    {
      "cell_type": "code",
      "execution_count": 149,
      "metadata": {
        "colab": {
          "base_uri": "https://localhost:8080/"
        },
        "id": "gYB2haV_Y5EJ",
        "outputId": "4caa250b-3574-45a9-afc9-6b16fd0ee679"
      },
      "outputs": [
        {
          "output_type": "execute_result",
          "data": {
            "text/plain": [
              "array([[707,   1,   0,   0,  40],\n",
              "       [  1, 536,   0,   0,   3],\n",
              "       [  1,   2, 234,   3,  10],\n",
              "       [ 19,   1,  21, 308,  25],\n",
              "       [ 29,  15,   0,  34, 508]])"
            ]
          },
          "metadata": {},
          "execution_count": 149
        }
      ],
      "source": [
        "CM_test"
      ]
    },
    {
      "cell_type": "code",
      "execution_count": 150,
      "metadata": {
        "colab": {
          "base_uri": "https://localhost:8080/",
          "height": 223
        },
        "id": "mNDKHJ79Y5EJ",
        "outputId": "52b1e08a-357b-4d28-c2b0-c5f6f0864afc"
      },
      "outputs": [
        {
          "output_type": "stream",
          "name": "stderr",
          "text": [
            "/usr/local/lib/python3.10/dist-packages/sklearn/linear_model/_logistic.py:458: ConvergenceWarning: lbfgs failed to converge (status=1):\n",
            "STOP: TOTAL NO. of ITERATIONS REACHED LIMIT.\n",
            "\n",
            "Increase the number of iterations (max_iter) or scale the data as shown in:\n",
            "    https://scikit-learn.org/stable/modules/preprocessing.html\n",
            "Please also refer to the documentation for alternative solver options:\n",
            "    https://scikit-learn.org/stable/modules/linear_model.html#logistic-regression\n",
            "  n_iter_i = _check_optimize_result(\n"
          ]
        },
        {
          "output_type": "execute_result",
          "data": {
            "text/plain": [
              "LogisticRegression(random_state=0)"
            ],
            "text/html": [
              "<style>#sk-container-id-6 {color: black;background-color: white;}#sk-container-id-6 pre{padding: 0;}#sk-container-id-6 div.sk-toggleable {background-color: white;}#sk-container-id-6 label.sk-toggleable__label {cursor: pointer;display: block;width: 100%;margin-bottom: 0;padding: 0.3em;box-sizing: border-box;text-align: center;}#sk-container-id-6 label.sk-toggleable__label-arrow:before {content: \"▸\";float: left;margin-right: 0.25em;color: #696969;}#sk-container-id-6 label.sk-toggleable__label-arrow:hover:before {color: black;}#sk-container-id-6 div.sk-estimator:hover label.sk-toggleable__label-arrow:before {color: black;}#sk-container-id-6 div.sk-toggleable__content {max-height: 0;max-width: 0;overflow: hidden;text-align: left;background-color: #f0f8ff;}#sk-container-id-6 div.sk-toggleable__content pre {margin: 0.2em;color: black;border-radius: 0.25em;background-color: #f0f8ff;}#sk-container-id-6 input.sk-toggleable__control:checked~div.sk-toggleable__content {max-height: 200px;max-width: 100%;overflow: auto;}#sk-container-id-6 input.sk-toggleable__control:checked~label.sk-toggleable__label-arrow:before {content: \"▾\";}#sk-container-id-6 div.sk-estimator input.sk-toggleable__control:checked~label.sk-toggleable__label {background-color: #d4ebff;}#sk-container-id-6 div.sk-label input.sk-toggleable__control:checked~label.sk-toggleable__label {background-color: #d4ebff;}#sk-container-id-6 input.sk-hidden--visually {border: 0;clip: rect(1px 1px 1px 1px);clip: rect(1px, 1px, 1px, 1px);height: 1px;margin: -1px;overflow: hidden;padding: 0;position: absolute;width: 1px;}#sk-container-id-6 div.sk-estimator {font-family: monospace;background-color: #f0f8ff;border: 1px dotted black;border-radius: 0.25em;box-sizing: border-box;margin-bottom: 0.5em;}#sk-container-id-6 div.sk-estimator:hover {background-color: #d4ebff;}#sk-container-id-6 div.sk-parallel-item::after {content: \"\";width: 100%;border-bottom: 1px solid gray;flex-grow: 1;}#sk-container-id-6 div.sk-label:hover label.sk-toggleable__label {background-color: #d4ebff;}#sk-container-id-6 div.sk-serial::before {content: \"\";position: absolute;border-left: 1px solid gray;box-sizing: border-box;top: 0;bottom: 0;left: 50%;z-index: 0;}#sk-container-id-6 div.sk-serial {display: flex;flex-direction: column;align-items: center;background-color: white;padding-right: 0.2em;padding-left: 0.2em;position: relative;}#sk-container-id-6 div.sk-item {position: relative;z-index: 1;}#sk-container-id-6 div.sk-parallel {display: flex;align-items: stretch;justify-content: center;background-color: white;position: relative;}#sk-container-id-6 div.sk-item::before, #sk-container-id-6 div.sk-parallel-item::before {content: \"\";position: absolute;border-left: 1px solid gray;box-sizing: border-box;top: 0;bottom: 0;left: 50%;z-index: -1;}#sk-container-id-6 div.sk-parallel-item {display: flex;flex-direction: column;z-index: 1;position: relative;background-color: white;}#sk-container-id-6 div.sk-parallel-item:first-child::after {align-self: flex-end;width: 50%;}#sk-container-id-6 div.sk-parallel-item:last-child::after {align-self: flex-start;width: 50%;}#sk-container-id-6 div.sk-parallel-item:only-child::after {width: 0;}#sk-container-id-6 div.sk-dashed-wrapped {border: 1px dashed gray;margin: 0 0.4em 0.5em 0.4em;box-sizing: border-box;padding-bottom: 0.4em;background-color: white;}#sk-container-id-6 div.sk-label label {font-family: monospace;font-weight: bold;display: inline-block;line-height: 1.2em;}#sk-container-id-6 div.sk-label-container {text-align: center;}#sk-container-id-6 div.sk-container {/* jupyter's `normalize.less` sets `[hidden] { display: none; }` but bootstrap.min.css set `[hidden] { display: none !important; }` so we also need the `!important` here to be able to override the default hidden behavior on the sphinx rendered scikit-learn.org. See: https://github.com/scikit-learn/scikit-learn/issues/21755 */display: inline-block !important;position: relative;}#sk-container-id-6 div.sk-text-repr-fallback {display: none;}</style><div id=\"sk-container-id-6\" class=\"sk-top-container\"><div class=\"sk-text-repr-fallback\"><pre>LogisticRegression(random_state=0)</pre><b>In a Jupyter environment, please rerun this cell to show the HTML representation or trust the notebook. <br />On GitHub, the HTML representation is unable to render, please try loading this page with nbviewer.org.</b></div><div class=\"sk-container\" hidden><div class=\"sk-item\"><div class=\"sk-estimator sk-toggleable\"><input class=\"sk-toggleable__control sk-hidden--visually\" id=\"sk-estimator-id-6\" type=\"checkbox\" checked><label for=\"sk-estimator-id-6\" class=\"sk-toggleable__label sk-toggleable__label-arrow\">LogisticRegression</label><div class=\"sk-toggleable__content\"><pre>LogisticRegression(random_state=0)</pre></div></div></div></div></div>"
            ]
          },
          "metadata": {},
          "execution_count": 150
        }
      ],
      "source": [
        "\n",
        "from sklearn.linear_model import LogisticRegression \n",
        "classifier = LogisticRegression(random_state = 0) \n",
        "classifier.fit(x_train, X_T) \n"
      ]
    },
    {
      "cell_type": "code",
      "execution_count": 151,
      "metadata": {
        "id": "e9UoPRMYY5EJ"
      },
      "outputs": [],
      "source": [
        "\n",
        "y_pred = classifier.predict(x_train) \n"
      ]
    },
    {
      "cell_type": "code",
      "execution_count": 152,
      "metadata": {
        "colab": {
          "base_uri": "https://localhost:8080/"
        },
        "id": "WgUltBSLY5EJ",
        "outputId": "a3d3e1ed-edd6-474a-a806-e24225bc734e"
      },
      "outputs": [
        {
          "output_type": "stream",
          "name": "stdout",
          "text": [
            "93.84061593840616\n"
          ]
        }
      ],
      "source": [
        "print(accuracy_score(X_T,y_pred)*100)"
      ]
    },
    {
      "cell_type": "code",
      "execution_count": 153,
      "metadata": {
        "id": "R4WDYRuSY5EJ"
      },
      "outputs": [],
      "source": [
        "predict_logistic = classifier.predict(y_train)"
      ]
    },
    {
      "cell_type": "code",
      "execution_count": 154,
      "metadata": {
        "colab": {
          "base_uri": "https://localhost:8080/"
        },
        "id": "LaRScEUvY5EJ",
        "outputId": "4a978def-a85f-4705-b6d0-0e4f7bb5bbc7"
      },
      "outputs": [
        {
          "output_type": "stream",
          "name": "stdout",
          "text": [
            "91.67333867093676\n"
          ]
        }
      ],
      "source": [
        "print(accuracy_score(Y_T,predict_logistic)*100)"
      ]
    },
    {
      "cell_type": "code",
      "execution_count": 155,
      "metadata": {
        "id": "pUN1vse2Y5EK"
      },
      "outputs": [],
      "source": [
        "Precision= precision_score(Y_T, predict_logistic,  average=\"macro\")"
      ]
    },
    {
      "cell_type": "code",
      "execution_count": 156,
      "metadata": {
        "colab": {
          "base_uri": "https://localhost:8080/"
        },
        "id": "-uxRNs64Y5EK",
        "outputId": "dac4644d-ad82-46bb-b748-70dd38f0185c"
      },
      "outputs": [
        {
          "output_type": "execute_result",
          "data": {
            "text/plain": [
              "0.9131480319531837"
            ]
          },
          "metadata": {},
          "execution_count": 156
        }
      ],
      "source": [
        "Precision"
      ]
    },
    {
      "cell_type": "code",
      "execution_count": 157,
      "metadata": {
        "colab": {
          "base_uri": "https://localhost:8080/"
        },
        "id": "o7OURrpCY5EK",
        "outputId": "8adfc652-3f49-4239-ab44-f1b4470a5442"
      },
      "outputs": [
        {
          "output_type": "execute_result",
          "data": {
            "text/plain": [
              "0.91173455197089"
            ]
          },
          "metadata": {},
          "execution_count": 157
        }
      ],
      "source": [
        "Recall = recall_score(Y_T, predict_logistic,  average=\"macro\")\n",
        "Recall"
      ]
    },
    {
      "cell_type": "code",
      "execution_count": 158,
      "metadata": {
        "id": "CZvOBf2kY5EK"
      },
      "outputs": [],
      "source": [
        "F1 = f1_score(Y_T, predict_logistic,  average=\"macro\")"
      ]
    },
    {
      "cell_type": "code",
      "execution_count": 159,
      "metadata": {
        "colab": {
          "base_uri": "https://localhost:8080/"
        },
        "id": "udiiWxxPY5EK",
        "outputId": "7ee74837-483e-4903-cdb1-27741a9bb6c6"
      },
      "outputs": [
        {
          "output_type": "execute_result",
          "data": {
            "text/plain": [
              "0.9117713254664093"
            ]
          },
          "metadata": {},
          "execution_count": 159
        }
      ],
      "source": [
        "F1"
      ]
    },
    {
      "cell_type": "code",
      "execution_count": 160,
      "metadata": {
        "id": "6ef0IeaSY5EL"
      },
      "outputs": [],
      "source": [
        "CM_logistic = confusion_matrix(Y_T, predict_logistic)"
      ]
    },
    {
      "cell_type": "code",
      "execution_count": 161,
      "metadata": {
        "colab": {
          "base_uri": "https://localhost:8080/"
        },
        "id": "BbyeHxbgY5EL",
        "outputId": "80545720-dd9e-4862-dd4f-2f8e24fcbb17"
      },
      "outputs": [
        {
          "output_type": "execute_result",
          "data": {
            "text/plain": [
              "array([[706,   4,   0,   0,  38],\n",
              "       [  0, 539,   0,   0,   1],\n",
              "       [  0,   6, 236,   5,   3],\n",
              "       [ 18,   3,  22, 302,  29],\n",
              "       [ 26,  22,   0,  31, 507]])"
            ]
          },
          "metadata": {},
          "execution_count": 161
        }
      ],
      "source": [
        "CM_logistic"
      ]
    },
    {
      "cell_type": "code",
      "source": [],
      "metadata": {
        "id": "24cJDRljkeyu"
      },
      "execution_count": 161,
      "outputs": []
    },
    {
      "cell_type": "code",
      "source": [],
      "metadata": {
        "id": "dyPDS_pzke1j"
      },
      "execution_count": 161,
      "outputs": []
    },
    {
      "cell_type": "code",
      "source": [
        "import pandas as pd\n",
        "from sklearn.model_selection import train_test_split\n",
        "from keras.models import Sequential\n",
        "from keras.layers import LSTM, Dense, Embedding\n",
        "from keras.preprocessing.text import Tokenizer\n",
        "from keras.utils import pad_sequences\n",
        "\n",
        "# Load the dataset\n",
        "data = pd.read_csv('/content/drive/MyDrive/bank_transaction_features.csv')\n",
        "print(data.head(10))\n"
      ],
      "metadata": {
        "colab": {
          "base_uri": "https://localhost:8080/"
        },
        "id": "zBoyNz_hke4a",
        "outputId": "432640c2-fa25-4bf1-d756-8dcf9d6613dd"
      },
      "execution_count": 162,
      "outputs": [
        {
          "output_type": "stream",
          "name": "stdout",
          "text": [
            "   bank_transaction_id             bank_transaction_description  \\\n",
            "0             21786195                                 citylink   \n",
            "1             21786196                                 citylink   \n",
            "2             21786197                            1Jul19 OYSTER   \n",
            "3             21786198                               travelodge   \n",
            "4             21786199                            6Jul19 RINGGO   \n",
            "5             21786200  SUNDRY DEBIT CONTACTLESS CAMDEN PARKING   \n",
            "6             21786201                                 stgcoach   \n",
            "7             21786202                                trainline   \n",
            "8             21786203        Fin: CMT UK LTD  Cash at Transact   \n",
            "9             21786204                                   OYSTER   \n",
            "\n",
            "   bank_transaction_amount bank_transaction_type  \n",
            "0                   -13.80                   MPO  \n",
            "1                   -13.14                   DEB  \n",
            "2                   -36.98                   DEB  \n",
            "3                   -75.73                   MPO  \n",
            "4                   -37.86                   CSH  \n",
            "5                   -34.79                   DEB  \n",
            "6                    -7.26                   DEB  \n",
            "7                   -26.71                   DEB  \n",
            "8                   -36.25                   CSH  \n",
            "9                   -21.80                   DEB  \n"
          ]
        }
      ]
    },
    {
      "cell_type": "code",
      "source": [
        "# Prepare input features\n",
        "descriptions = data['bank_transaction_description'].values\n",
        "amounts = data['bank_transaction_amount'].values\n",
        "types = data['bank_transaction_type'].values\n",
        "transaction_ids = data['bank_transaction_id'].values\n"
      ],
      "metadata": {
        "id": "OKJSujCmlq6M"
      },
      "execution_count": 163,
      "outputs": []
    },
    {
      "cell_type": "code",
      "source": [
        "descriptions = descriptions.astype(str)\n",
        "tokenizer = Tokenizer()\n",
        "max_sequence_length = max(len(sequence) for sequence in descriptions)"
      ],
      "metadata": {
        "id": "S7KUnrX5nTZF"
      },
      "execution_count": 164,
      "outputs": []
    },
    {
      "cell_type": "code",
      "source": [
        "# # Tokenize and pad transaction descriptions\n",
        "# tokenizer = Tokenizer()\n",
        "# tokenizer.fit_on_texts(descriptions)\n",
        "# descriptions = tokenizer.texts_to_sequences(descriptions)\n",
        "# max_sequence_length = max(len(sequence) for sequence in descriptions)\n",
        "# descriptions = pad_sequences(descriptions, maxlen=max_sequence_length)"
      ],
      "metadata": {
        "id": "0FhwnsR6mCoK"
      },
      "execution_count": 165,
      "outputs": []
    },
    {
      "cell_type": "code",
      "source": [
        "\n",
        "\n",
        "\n",
        "# # Normalize amounts\n",
        "# amounts = (amounts - amounts.min()) / (amounts.max() - amounts.min())\n",
        "\n",
        "# # Convert transaction types to one-hot encoding\n",
        "# types = pd.get_dummies(types)\n",
        "\n",
        "# # Split the data into training and testing sets\n",
        "# X_train, X_test, y_train, y_test = train_test_split(\n",
        "#     descriptions, transaction_ids, test_size=0.2, random_state=42)\n",
        "\n",
        "# # Build the LSTM model\n",
        "# model = Sequential()\n",
        "# model.add(Embedding(len(tokenizer.word_index) + 1, 100, input_length=max_sequence_length))\n",
        "# model.add(LSTM(100))\n",
        "# model.add(Dense(1, activation='linear'))\n",
        "\n",
        "# # Compile and train the model\n",
        "# model.compile(loss='mse', optimizer='adam')\n",
        "# model.fit(X_train, y_train, validation_data=(X_test, y_test), epochs=10, batch_size=32)\n",
        "\n",
        "# Make predictions on new data\n",
        "\n"
      ],
      "metadata": {
        "id": "t26BcvgZlCrr"
      },
      "execution_count": 166,
      "outputs": []
    },
    {
      "cell_type": "code",
      "source": [
        "# Example input data\n",
        "# new_descriptions = ['Online payment', 'ATM withdrawal']\n",
        "# new_amounts = [50.75, 100.0]\n",
        "# new_types = ['Payment', 'Withdrawal']\n",
        "\n",
        "# # Tokenize and pad the new descriptions\n",
        "# new_descriptions = tokenizer.texts_to_sequences(new_descriptions)\n",
        "# new_descriptions = pad_sequences(new_descriptions, maxlen=max_sequence_length)\n",
        "\n",
        "# # Normalize the new amounts\n",
        "# new_amounts = (new_amounts - amounts.min()) / (amounts.max() - amounts.min())\n",
        "\n",
        "# # Convert the new types to one-hot encoding\n",
        "# new_types = pd.get_dummies(new_types)\n",
        "\n",
        "# # Make predictions\n",
        "# predictions = model.predict([new_descriptions, new_amounts, new_types])\n",
        "\n",
        "\n"
      ],
      "metadata": {
        "id": "Bxkxpx3BoIWS"
      },
      "execution_count": 167,
      "outputs": []
    },
    {
      "cell_type": "code",
      "source": [],
      "metadata": {
        "id": "x0bnZzwuCRts"
      },
      "execution_count": null,
      "outputs": []
    },
    {
      "cell_type": "code",
      "source": [
        "import pandas as pd\n",
        "import numpy as np\n",
        "from sklearn.model_selection import train_test_split\n",
        "from sklearn.preprocessing import LabelEncoder, StandardScaler\n",
        "from tensorflow.keras.models import Sequential\n",
        "from tensorflow.keras.layers import Dense, Dropout\n",
        "from tensorflow.keras.optimizers import Adam\n",
        "\n",
        "# Load the dataset\n",
        "df = pd.read_csv('/content/drive/MyDrive/bank_transaction_features.csv')\n",
        "\n",
        "# Preprocessing\n",
        "X = df.drop('bank_transaction_id', axis=1)  # Input features\n",
        "y = df['bank_transaction_id']  # Target variable"
      ],
      "metadata": {
        "id": "--aV1ZTCTIwa"
      },
      "execution_count": 178,
      "outputs": []
    },
    {
      "cell_type": "code",
      "source": [
        "df.head(10)"
      ],
      "metadata": {
        "colab": {
          "base_uri": "https://localhost:8080/",
          "height": 363
        },
        "id": "JRJ2S4vUgCj9",
        "outputId": "cd4002f0-7c13-41f3-d934-ca83dbc85384"
      },
      "execution_count": 182,
      "outputs": [
        {
          "output_type": "execute_result",
          "data": {
            "text/plain": [
              "   bank_transaction_id             bank_transaction_description  \\\n",
              "0             21786195                                 citylink   \n",
              "1             21786196                                 citylink   \n",
              "2             21786197                            1Jul19 OYSTER   \n",
              "3             21786198                               travelodge   \n",
              "4             21786199                            6Jul19 RINGGO   \n",
              "5             21786200  SUNDRY DEBIT CONTACTLESS CAMDEN PARKING   \n",
              "6             21786201                                 stgcoach   \n",
              "7             21786202                                trainline   \n",
              "8             21786203        Fin: CMT UK LTD  Cash at Transact   \n",
              "9             21786204                                   OYSTER   \n",
              "\n",
              "   bank_transaction_amount bank_transaction_type  \n",
              "0                   -13.80                   MPO  \n",
              "1                   -13.14                   DEB  \n",
              "2                   -36.98                   DEB  \n",
              "3                   -75.73                   MPO  \n",
              "4                   -37.86                   CSH  \n",
              "5                   -34.79                   DEB  \n",
              "6                    -7.26                   DEB  \n",
              "7                   -26.71                   DEB  \n",
              "8                   -36.25                   CSH  \n",
              "9                   -21.80                   DEB  "
            ],
            "text/html": [
              "\n",
              "  <div id=\"df-404b1ecd-501b-4af2-abc6-cbab23520734\">\n",
              "    <div class=\"colab-df-container\">\n",
              "      <div>\n",
              "<style scoped>\n",
              "    .dataframe tbody tr th:only-of-type {\n",
              "        vertical-align: middle;\n",
              "    }\n",
              "\n",
              "    .dataframe tbody tr th {\n",
              "        vertical-align: top;\n",
              "    }\n",
              "\n",
              "    .dataframe thead th {\n",
              "        text-align: right;\n",
              "    }\n",
              "</style>\n",
              "<table border=\"1\" class=\"dataframe\">\n",
              "  <thead>\n",
              "    <tr style=\"text-align: right;\">\n",
              "      <th></th>\n",
              "      <th>bank_transaction_id</th>\n",
              "      <th>bank_transaction_description</th>\n",
              "      <th>bank_transaction_amount</th>\n",
              "      <th>bank_transaction_type</th>\n",
              "    </tr>\n",
              "  </thead>\n",
              "  <tbody>\n",
              "    <tr>\n",
              "      <th>0</th>\n",
              "      <td>21786195</td>\n",
              "      <td>citylink</td>\n",
              "      <td>-13.80</td>\n",
              "      <td>MPO</td>\n",
              "    </tr>\n",
              "    <tr>\n",
              "      <th>1</th>\n",
              "      <td>21786196</td>\n",
              "      <td>citylink</td>\n",
              "      <td>-13.14</td>\n",
              "      <td>DEB</td>\n",
              "    </tr>\n",
              "    <tr>\n",
              "      <th>2</th>\n",
              "      <td>21786197</td>\n",
              "      <td>1Jul19 OYSTER</td>\n",
              "      <td>-36.98</td>\n",
              "      <td>DEB</td>\n",
              "    </tr>\n",
              "    <tr>\n",
              "      <th>3</th>\n",
              "      <td>21786198</td>\n",
              "      <td>travelodge</td>\n",
              "      <td>-75.73</td>\n",
              "      <td>MPO</td>\n",
              "    </tr>\n",
              "    <tr>\n",
              "      <th>4</th>\n",
              "      <td>21786199</td>\n",
              "      <td>6Jul19 RINGGO</td>\n",
              "      <td>-37.86</td>\n",
              "      <td>CSH</td>\n",
              "    </tr>\n",
              "    <tr>\n",
              "      <th>5</th>\n",
              "      <td>21786200</td>\n",
              "      <td>SUNDRY DEBIT CONTACTLESS CAMDEN PARKING</td>\n",
              "      <td>-34.79</td>\n",
              "      <td>DEB</td>\n",
              "    </tr>\n",
              "    <tr>\n",
              "      <th>6</th>\n",
              "      <td>21786201</td>\n",
              "      <td>stgcoach</td>\n",
              "      <td>-7.26</td>\n",
              "      <td>DEB</td>\n",
              "    </tr>\n",
              "    <tr>\n",
              "      <th>7</th>\n",
              "      <td>21786202</td>\n",
              "      <td>trainline</td>\n",
              "      <td>-26.71</td>\n",
              "      <td>DEB</td>\n",
              "    </tr>\n",
              "    <tr>\n",
              "      <th>8</th>\n",
              "      <td>21786203</td>\n",
              "      <td>Fin: CMT UK LTD  Cash at Transact</td>\n",
              "      <td>-36.25</td>\n",
              "      <td>CSH</td>\n",
              "    </tr>\n",
              "    <tr>\n",
              "      <th>9</th>\n",
              "      <td>21786204</td>\n",
              "      <td>OYSTER</td>\n",
              "      <td>-21.80</td>\n",
              "      <td>DEB</td>\n",
              "    </tr>\n",
              "  </tbody>\n",
              "</table>\n",
              "</div>\n",
              "      <button class=\"colab-df-convert\" onclick=\"convertToInteractive('df-404b1ecd-501b-4af2-abc6-cbab23520734')\"\n",
              "              title=\"Convert this dataframe to an interactive table.\"\n",
              "              style=\"display:none;\">\n",
              "        \n",
              "  <svg xmlns=\"http://www.w3.org/2000/svg\" height=\"24px\"viewBox=\"0 0 24 24\"\n",
              "       width=\"24px\">\n",
              "    <path d=\"M0 0h24v24H0V0z\" fill=\"none\"/>\n",
              "    <path d=\"M18.56 5.44l.94 2.06.94-2.06 2.06-.94-2.06-.94-.94-2.06-.94 2.06-2.06.94zm-11 1L8.5 8.5l.94-2.06 2.06-.94-2.06-.94L8.5 2.5l-.94 2.06-2.06.94zm10 10l.94 2.06.94-2.06 2.06-.94-2.06-.94-.94-2.06-.94 2.06-2.06.94z\"/><path d=\"M17.41 7.96l-1.37-1.37c-.4-.4-.92-.59-1.43-.59-.52 0-1.04.2-1.43.59L10.3 9.45l-7.72 7.72c-.78.78-.78 2.05 0 2.83L4 21.41c.39.39.9.59 1.41.59.51 0 1.02-.2 1.41-.59l7.78-7.78 2.81-2.81c.8-.78.8-2.07 0-2.86zM5.41 20L4 18.59l7.72-7.72 1.47 1.35L5.41 20z\"/>\n",
              "  </svg>\n",
              "      </button>\n",
              "      \n",
              "  <style>\n",
              "    .colab-df-container {\n",
              "      display:flex;\n",
              "      flex-wrap:wrap;\n",
              "      gap: 12px;\n",
              "    }\n",
              "\n",
              "    .colab-df-convert {\n",
              "      background-color: #E8F0FE;\n",
              "      border: none;\n",
              "      border-radius: 50%;\n",
              "      cursor: pointer;\n",
              "      display: none;\n",
              "      fill: #1967D2;\n",
              "      height: 32px;\n",
              "      padding: 0 0 0 0;\n",
              "      width: 32px;\n",
              "    }\n",
              "\n",
              "    .colab-df-convert:hover {\n",
              "      background-color: #E2EBFA;\n",
              "      box-shadow: 0px 1px 2px rgba(60, 64, 67, 0.3), 0px 1px 3px 1px rgba(60, 64, 67, 0.15);\n",
              "      fill: #174EA6;\n",
              "    }\n",
              "\n",
              "    [theme=dark] .colab-df-convert {\n",
              "      background-color: #3B4455;\n",
              "      fill: #D2E3FC;\n",
              "    }\n",
              "\n",
              "    [theme=dark] .colab-df-convert:hover {\n",
              "      background-color: #434B5C;\n",
              "      box-shadow: 0px 1px 3px 1px rgba(0, 0, 0, 0.15);\n",
              "      filter: drop-shadow(0px 1px 2px rgba(0, 0, 0, 0.3));\n",
              "      fill: #FFFFFF;\n",
              "    }\n",
              "  </style>\n",
              "\n",
              "      <script>\n",
              "        const buttonEl =\n",
              "          document.querySelector('#df-404b1ecd-501b-4af2-abc6-cbab23520734 button.colab-df-convert');\n",
              "        buttonEl.style.display =\n",
              "          google.colab.kernel.accessAllowed ? 'block' : 'none';\n",
              "\n",
              "        async function convertToInteractive(key) {\n",
              "          const element = document.querySelector('#df-404b1ecd-501b-4af2-abc6-cbab23520734');\n",
              "          const dataTable =\n",
              "            await google.colab.kernel.invokeFunction('convertToInteractive',\n",
              "                                                     [key], {});\n",
              "          if (!dataTable) return;\n",
              "\n",
              "          const docLinkHtml = 'Like what you see? Visit the ' +\n",
              "            '<a target=\"_blank\" href=https://colab.research.google.com/notebooks/data_table.ipynb>data table notebook</a>'\n",
              "            + ' to learn more about interactive tables.';\n",
              "          element.innerHTML = '';\n",
              "          dataTable['output_type'] = 'display_data';\n",
              "          await google.colab.output.renderOutput(dataTable, element);\n",
              "          const docLink = document.createElement('div');\n",
              "          docLink.innerHTML = docLinkHtml;\n",
              "          element.appendChild(docLink);\n",
              "        }\n",
              "      </script>\n",
              "    </div>\n",
              "  </div>\n",
              "  "
            ]
          },
          "metadata": {},
          "execution_count": 182
        }
      ]
    },
    {
      "cell_type": "code",
      "source": [
        "\n",
        "# Encode categorical variables\n",
        "le = LabelEncoder()\n",
        "X['bank_transaction_description'] = le.fit_transform(X['bank_transaction_description'])\n",
        "\n",
        "X['bank_transaction_type'] = le.fit_transform(X['bank_transaction_type'])\n",
        "print(X)"
      ],
      "metadata": {
        "colab": {
          "base_uri": "https://localhost:8080/"
        },
        "id": "9oLwewZxdF9K",
        "outputId": "9ca33457-d0c6-48a4-c82e-f645d2eff092"
      },
      "execution_count": 179,
      "outputs": [
        {
          "output_type": "stream",
          "name": "stdout",
          "text": [
            "       bank_transaction_description  bank_transaction_amount  \\\n",
            "0                              8412                   -13.80   \n",
            "1                              8412                   -13.14   \n",
            "2                               209                   -36.98   \n",
            "3                              9327                   -75.73   \n",
            "4                               518                   -37.86   \n",
            "...                             ...                      ...   \n",
            "12495                          1404                   -28.46   \n",
            "12496                          1582                   -35.64   \n",
            "12497                          5781                   -22.37   \n",
            "12498                           138                   -23.11   \n",
            "12499                          8552                   -24.15   \n",
            "\n",
            "       bank_transaction_type  \n",
            "0                          5  \n",
            "1                          3  \n",
            "2                          3  \n",
            "3                          5  \n",
            "4                          1  \n",
            "...                      ...  \n",
            "12495                      4  \n",
            "12496                      4  \n",
            "12497                      2  \n",
            "12498                      2  \n",
            "12499                      2  \n",
            "\n",
            "[12500 rows x 3 columns]\n"
          ]
        }
      ]
    },
    {
      "cell_type": "code",
      "source": [
        "\n",
        "\n",
        "\n",
        "# Scale numerical features\n",
        "scaler = StandardScaler()\n",
        "X['bank_transaction_amount'] = scaler.fit_transform(X['bank_transaction_amount'].values.reshape(-1, 1))"
      ],
      "metadata": {
        "id": "SO1aagJte61a"
      },
      "execution_count": 180,
      "outputs": []
    },
    {
      "cell_type": "code",
      "source": [
        "X"
      ],
      "metadata": {
        "colab": {
          "base_uri": "https://localhost:8080/",
          "height": 423
        },
        "id": "vY3AqJBRe8W_",
        "outputId": "d0e9643a-83e4-4ae2-da90-fb66dd65773d"
      },
      "execution_count": 181,
      "outputs": [
        {
          "output_type": "execute_result",
          "data": {
            "text/plain": [
              "       bank_transaction_description  bank_transaction_amount  \\\n",
              "0                              8412                 0.386002   \n",
              "1                              8412                 0.429828   \n",
              "2                               209                -1.153221   \n",
              "3                              9327                -3.726340   \n",
              "4                               518                -1.211656   \n",
              "...                             ...                      ...   \n",
              "12495                          1404                -0.587467   \n",
              "12496                          1582                -1.064241   \n",
              "12497                          5781                -0.183072   \n",
              "12498                           138                -0.232210   \n",
              "12499                          8552                -0.301270   \n",
              "\n",
              "       bank_transaction_type  \n",
              "0                          5  \n",
              "1                          3  \n",
              "2                          3  \n",
              "3                          5  \n",
              "4                          1  \n",
              "...                      ...  \n",
              "12495                      4  \n",
              "12496                      4  \n",
              "12497                      2  \n",
              "12498                      2  \n",
              "12499                      2  \n",
              "\n",
              "[12500 rows x 3 columns]"
            ],
            "text/html": [
              "\n",
              "  <div id=\"df-6df6780e-17ce-4ecb-9e12-d94dc98d091e\">\n",
              "    <div class=\"colab-df-container\">\n",
              "      <div>\n",
              "<style scoped>\n",
              "    .dataframe tbody tr th:only-of-type {\n",
              "        vertical-align: middle;\n",
              "    }\n",
              "\n",
              "    .dataframe tbody tr th {\n",
              "        vertical-align: top;\n",
              "    }\n",
              "\n",
              "    .dataframe thead th {\n",
              "        text-align: right;\n",
              "    }\n",
              "</style>\n",
              "<table border=\"1\" class=\"dataframe\">\n",
              "  <thead>\n",
              "    <tr style=\"text-align: right;\">\n",
              "      <th></th>\n",
              "      <th>bank_transaction_description</th>\n",
              "      <th>bank_transaction_amount</th>\n",
              "      <th>bank_transaction_type</th>\n",
              "    </tr>\n",
              "  </thead>\n",
              "  <tbody>\n",
              "    <tr>\n",
              "      <th>0</th>\n",
              "      <td>8412</td>\n",
              "      <td>0.386002</td>\n",
              "      <td>5</td>\n",
              "    </tr>\n",
              "    <tr>\n",
              "      <th>1</th>\n",
              "      <td>8412</td>\n",
              "      <td>0.429828</td>\n",
              "      <td>3</td>\n",
              "    </tr>\n",
              "    <tr>\n",
              "      <th>2</th>\n",
              "      <td>209</td>\n",
              "      <td>-1.153221</td>\n",
              "      <td>3</td>\n",
              "    </tr>\n",
              "    <tr>\n",
              "      <th>3</th>\n",
              "      <td>9327</td>\n",
              "      <td>-3.726340</td>\n",
              "      <td>5</td>\n",
              "    </tr>\n",
              "    <tr>\n",
              "      <th>4</th>\n",
              "      <td>518</td>\n",
              "      <td>-1.211656</td>\n",
              "      <td>1</td>\n",
              "    </tr>\n",
              "    <tr>\n",
              "      <th>...</th>\n",
              "      <td>...</td>\n",
              "      <td>...</td>\n",
              "      <td>...</td>\n",
              "    </tr>\n",
              "    <tr>\n",
              "      <th>12495</th>\n",
              "      <td>1404</td>\n",
              "      <td>-0.587467</td>\n",
              "      <td>4</td>\n",
              "    </tr>\n",
              "    <tr>\n",
              "      <th>12496</th>\n",
              "      <td>1582</td>\n",
              "      <td>-1.064241</td>\n",
              "      <td>4</td>\n",
              "    </tr>\n",
              "    <tr>\n",
              "      <th>12497</th>\n",
              "      <td>5781</td>\n",
              "      <td>-0.183072</td>\n",
              "      <td>2</td>\n",
              "    </tr>\n",
              "    <tr>\n",
              "      <th>12498</th>\n",
              "      <td>138</td>\n",
              "      <td>-0.232210</td>\n",
              "      <td>2</td>\n",
              "    </tr>\n",
              "    <tr>\n",
              "      <th>12499</th>\n",
              "      <td>8552</td>\n",
              "      <td>-0.301270</td>\n",
              "      <td>2</td>\n",
              "    </tr>\n",
              "  </tbody>\n",
              "</table>\n",
              "<p>12500 rows × 3 columns</p>\n",
              "</div>\n",
              "      <button class=\"colab-df-convert\" onclick=\"convertToInteractive('df-6df6780e-17ce-4ecb-9e12-d94dc98d091e')\"\n",
              "              title=\"Convert this dataframe to an interactive table.\"\n",
              "              style=\"display:none;\">\n",
              "        \n",
              "  <svg xmlns=\"http://www.w3.org/2000/svg\" height=\"24px\"viewBox=\"0 0 24 24\"\n",
              "       width=\"24px\">\n",
              "    <path d=\"M0 0h24v24H0V0z\" fill=\"none\"/>\n",
              "    <path d=\"M18.56 5.44l.94 2.06.94-2.06 2.06-.94-2.06-.94-.94-2.06-.94 2.06-2.06.94zm-11 1L8.5 8.5l.94-2.06 2.06-.94-2.06-.94L8.5 2.5l-.94 2.06-2.06.94zm10 10l.94 2.06.94-2.06 2.06-.94-2.06-.94-.94-2.06-.94 2.06-2.06.94z\"/><path d=\"M17.41 7.96l-1.37-1.37c-.4-.4-.92-.59-1.43-.59-.52 0-1.04.2-1.43.59L10.3 9.45l-7.72 7.72c-.78.78-.78 2.05 0 2.83L4 21.41c.39.39.9.59 1.41.59.51 0 1.02-.2 1.41-.59l7.78-7.78 2.81-2.81c.8-.78.8-2.07 0-2.86zM5.41 20L4 18.59l7.72-7.72 1.47 1.35L5.41 20z\"/>\n",
              "  </svg>\n",
              "      </button>\n",
              "      \n",
              "  <style>\n",
              "    .colab-df-container {\n",
              "      display:flex;\n",
              "      flex-wrap:wrap;\n",
              "      gap: 12px;\n",
              "    }\n",
              "\n",
              "    .colab-df-convert {\n",
              "      background-color: #E8F0FE;\n",
              "      border: none;\n",
              "      border-radius: 50%;\n",
              "      cursor: pointer;\n",
              "      display: none;\n",
              "      fill: #1967D2;\n",
              "      height: 32px;\n",
              "      padding: 0 0 0 0;\n",
              "      width: 32px;\n",
              "    }\n",
              "\n",
              "    .colab-df-convert:hover {\n",
              "      background-color: #E2EBFA;\n",
              "      box-shadow: 0px 1px 2px rgba(60, 64, 67, 0.3), 0px 1px 3px 1px rgba(60, 64, 67, 0.15);\n",
              "      fill: #174EA6;\n",
              "    }\n",
              "\n",
              "    [theme=dark] .colab-df-convert {\n",
              "      background-color: #3B4455;\n",
              "      fill: #D2E3FC;\n",
              "    }\n",
              "\n",
              "    [theme=dark] .colab-df-convert:hover {\n",
              "      background-color: #434B5C;\n",
              "      box-shadow: 0px 1px 3px 1px rgba(0, 0, 0, 0.15);\n",
              "      filter: drop-shadow(0px 1px 2px rgba(0, 0, 0, 0.3));\n",
              "      fill: #FFFFFF;\n",
              "    }\n",
              "  </style>\n",
              "\n",
              "      <script>\n",
              "        const buttonEl =\n",
              "          document.querySelector('#df-6df6780e-17ce-4ecb-9e12-d94dc98d091e button.colab-df-convert');\n",
              "        buttonEl.style.display =\n",
              "          google.colab.kernel.accessAllowed ? 'block' : 'none';\n",
              "\n",
              "        async function convertToInteractive(key) {\n",
              "          const element = document.querySelector('#df-6df6780e-17ce-4ecb-9e12-d94dc98d091e');\n",
              "          const dataTable =\n",
              "            await google.colab.kernel.invokeFunction('convertToInteractive',\n",
              "                                                     [key], {});\n",
              "          if (!dataTable) return;\n",
              "\n",
              "          const docLinkHtml = 'Like what you see? Visit the ' +\n",
              "            '<a target=\"_blank\" href=https://colab.research.google.com/notebooks/data_table.ipynb>data table notebook</a>'\n",
              "            + ' to learn more about interactive tables.';\n",
              "          element.innerHTML = '';\n",
              "          dataTable['output_type'] = 'display_data';\n",
              "          await google.colab.output.renderOutput(dataTable, element);\n",
              "          const docLink = document.createElement('div');\n",
              "          docLink.innerHTML = docLinkHtml;\n",
              "          element.appendChild(docLink);\n",
              "        }\n",
              "      </script>\n",
              "    </div>\n",
              "  </div>\n",
              "  "
            ]
          },
          "metadata": {},
          "execution_count": 181
        }
      ]
    },
    {
      "cell_type": "code",
      "source": [
        "\n",
        "\n",
        "# Split the data into training and validation sets\n",
        "X_train, X_val, y_train, y_val = train_test_split(X, y, test_size=0.2, random_state=42)\n",
        "\n",
        "# Define the model architecture\n",
        "model = Sequential()\n",
        "model.add(Dense(64, activation='relu', input_shape=(X_train.shape[1],)))\n",
        "model.add(Dropout(0.2))\n",
        "model.add(Dense(32, activation='relu'))\n",
        "model.add(Dropout(0.2))\n",
        "model.add(Dense(1, activation='linear'))\n",
        "\n",
        "# Compile the model\n",
        "model.compile(loss='mean_squared_error', optimizer=Adam(lr=0.001))\n",
        "\n",
        "# Train the model\n",
        "model.fit(X_train, y_train, validation_data=(X_val, y_val), epochs=50, batch_size=32)\n",
        "\n",
        "# Predict transaction IDs\n",
        "predictions = model.predict(X_val)\n",
        "\n",
        "# Print some sample predictions\n",
        "for i in range(5):\n",
        "    print('Actual ID:', y_val.iloc[i], 'Predicted ID:', predictions[i][0])\n"
      ],
      "metadata": {
        "colab": {
          "base_uri": "https://localhost:8080/"
        },
        "id": "bh9c6D7WTIzG",
        "outputId": "dba89514-a7bf-49a0-e3a4-c592b668f3ab"
      },
      "execution_count": 169,
      "outputs": [
        {
          "output_type": "stream",
          "name": "stderr",
          "text": [
            "WARNING:absl:`lr` is deprecated in Keras optimizer, please use `learning_rate` or use the legacy optimizer, e.g.,tf.keras.optimizers.legacy.Adam.\n"
          ]
        },
        {
          "output_type": "stream",
          "name": "stdout",
          "text": [
            "Epoch 1/50\n",
            "313/313 [==============================] - 2s 3ms/step - loss: 491798921216000.0000 - val_loss: 475348793819136.0000\n",
            "Epoch 2/50\n",
            "313/313 [==============================] - 1s 3ms/step - loss: 421311159468032.0000 - val_loss: 340297674391552.0000\n",
            "Epoch 3/50\n",
            "313/313 [==============================] - 1s 3ms/step - loss: 251937345765376.0000 - val_loss: 167881715220480.0000\n",
            "Epoch 4/50\n",
            "313/313 [==============================] - 1s 3ms/step - loss: 145876299284480.0000 - val_loss: 125231557509120.0000\n",
            "Epoch 5/50\n",
            "313/313 [==============================] - 1s 3ms/step - loss: 134078628102144.0000 - val_loss: 123794949668864.0000\n",
            "Epoch 6/50\n",
            "313/313 [==============================] - 1s 3ms/step - loss: 133366468837376.0000 - val_loss: 123727505260544.0000\n",
            "Epoch 7/50\n",
            "313/313 [==============================] - 1s 2ms/step - loss: 133431262445568.0000 - val_loss: 123767116267520.0000\n",
            "Epoch 8/50\n",
            "313/313 [==============================] - 1s 2ms/step - loss: 132632440471552.0000 - val_loss: 123800788140032.0000\n",
            "Epoch 9/50\n",
            "313/313 [==============================] - 1s 2ms/step - loss: 132989426073600.0000 - val_loss: 123683666395136.0000\n",
            "Epoch 10/50\n",
            "313/313 [==============================] - 1s 2ms/step - loss: 133860356521984.0000 - val_loss: 123724082708480.0000\n",
            "Epoch 11/50\n",
            "313/313 [==============================] - 1s 2ms/step - loss: 133039480897536.0000 - val_loss: 123710048567296.0000\n",
            "Epoch 12/50\n",
            "313/313 [==============================] - 1s 2ms/step - loss: 133239641473024.0000 - val_loss: 123627227840512.0000\n",
            "Epoch 13/50\n",
            "313/313 [==============================] - 1s 2ms/step - loss: 132761121718272.0000 - val_loss: 123594302554112.0000\n",
            "Epoch 14/50\n",
            "313/313 [==============================] - 1s 2ms/step - loss: 133282607923200.0000 - val_loss: 123584940867584.0000\n",
            "Epoch 15/50\n",
            "313/313 [==============================] - 1s 2ms/step - loss: 133723446050816.0000 - val_loss: 123579681210368.0000\n",
            "Epoch 16/50\n",
            "313/313 [==============================] - 1s 3ms/step - loss: 132823700733952.0000 - val_loss: 123515122483200.0000\n",
            "Epoch 17/50\n",
            "313/313 [==============================] - 1s 3ms/step - loss: 133261208584192.0000 - val_loss: 123633427021824.0000\n",
            "Epoch 18/50\n",
            "313/313 [==============================] - 1s 4ms/step - loss: 133026671493120.0000 - val_loss: 123492682956800.0000\n",
            "Epoch 19/50\n",
            "313/313 [==============================] - 1s 2ms/step - loss: 133490192416768.0000 - val_loss: 123476182564864.0000\n",
            "Epoch 20/50\n",
            "313/313 [==============================] - 1s 3ms/step - loss: 132622885847040.0000 - val_loss: 123460764303360.0000\n",
            "Epoch 21/50\n",
            "313/313 [==============================] - 1s 3ms/step - loss: 133215121571840.0000 - val_loss: 123430296879104.0000\n",
            "Epoch 22/50\n",
            "313/313 [==============================] - 1s 4ms/step - loss: 131487361925120.0000 - val_loss: 123371585011712.0000\n",
            "Epoch 23/50\n",
            "313/313 [==============================] - 1s 3ms/step - loss: 132808978726912.0000 - val_loss: 123364639244288.0000\n",
            "Epoch 24/50\n",
            "313/313 [==============================] - 1s 2ms/step - loss: 132449795309568.0000 - val_loss: 123370645487616.0000\n",
            "Epoch 25/50\n",
            "313/313 [==============================] - 1s 2ms/step - loss: 132236254904320.0000 - val_loss: 123296582467584.0000\n",
            "Epoch 26/50\n",
            "313/313 [==============================] - 1s 2ms/step - loss: 131728752508928.0000 - val_loss: 123276114264064.0000\n",
            "Epoch 27/50\n",
            "313/313 [==============================] - 1s 2ms/step - loss: 131399474479104.0000 - val_loss: 123247978872832.0000\n",
            "Epoch 28/50\n",
            "313/313 [==============================] - 1s 2ms/step - loss: 132103865892864.0000 - val_loss: 123217612111872.0000\n",
            "Epoch 29/50\n",
            "313/313 [==============================] - 1s 2ms/step - loss: 132351732482048.0000 - val_loss: 123192345624576.0000\n",
            "Epoch 30/50\n",
            "313/313 [==============================] - 1s 2ms/step - loss: 132501284585472.0000 - val_loss: 123323467956224.0000\n",
            "Epoch 31/50\n",
            "313/313 [==============================] - 1s 2ms/step - loss: 132299932827648.0000 - val_loss: 123258087145472.0000\n",
            "Epoch 32/50\n",
            "313/313 [==============================] - 1s 2ms/step - loss: 131843349282816.0000 - val_loss: 123113073278976.0000\n",
            "Epoch 33/50\n",
            "313/313 [==============================] - 1s 2ms/step - loss: 132033753907200.0000 - val_loss: 123139321233408.0000\n",
            "Epoch 34/50\n",
            "313/313 [==============================] - 1s 2ms/step - loss: 132473082085376.0000 - val_loss: 123059637846016.0000\n",
            "Epoch 35/50\n",
            "313/313 [==============================] - 1s 2ms/step - loss: 131612226355200.0000 - val_loss: 123032743968768.0000\n",
            "Epoch 36/50\n",
            "313/313 [==============================] - 1s 2ms/step - loss: 131946302668800.0000 - val_loss: 123132467740672.0000\n",
            "Epoch 37/50\n",
            "313/313 [==============================] - 1s 2ms/step - loss: 131870931025920.0000 - val_loss: 123016537178112.0000\n",
            "Epoch 38/50\n",
            "313/313 [==============================] - 1s 2ms/step - loss: 132166277136384.0000 - val_loss: 122989072875520.0000\n",
            "Epoch 39/50\n",
            "313/313 [==============================] - 1s 3ms/step - loss: 131545981517824.0000 - val_loss: 123023810101248.0000\n",
            "Epoch 40/50\n",
            "313/313 [==============================] - 1s 4ms/step - loss: 131508836761600.0000 - val_loss: 122937222889472.0000\n",
            "Epoch 41/50\n",
            "313/313 [==============================] - 1s 3ms/step - loss: 131476314128384.0000 - val_loss: 122880348127232.0000\n",
            "Epoch 42/50\n",
            "313/313 [==============================] - 1s 3ms/step - loss: 131852115378176.0000 - val_loss: 122843035598848.0000\n",
            "Epoch 43/50\n",
            "313/313 [==============================] - 1s 2ms/step - loss: 130790436372480.0000 - val_loss: 122820050812928.0000\n",
            "Epoch 44/50\n",
            "313/313 [==============================] - 1s 2ms/step - loss: 131157714796544.0000 - val_loss: 122783862358016.0000\n",
            "Epoch 45/50\n",
            "313/313 [==============================] - 1s 2ms/step - loss: 131454629576704.0000 - val_loss: 122809757990912.0000\n",
            "Epoch 46/50\n",
            "313/313 [==============================] - 1s 2ms/step - loss: 131054031601664.0000 - val_loss: 122773284323328.0000\n",
            "Epoch 47/50\n",
            "313/313 [==============================] - 1s 2ms/step - loss: 131351558750208.0000 - val_loss: 122696536948736.0000\n",
            "Epoch 48/50\n",
            "313/313 [==============================] - 1s 2ms/step - loss: 131013590122496.0000 - val_loss: 122680867028992.0000\n",
            "Epoch 49/50\n",
            "313/313 [==============================] - 1s 2ms/step - loss: 131614315118592.0000 - val_loss: 122738496765952.0000\n",
            "Epoch 50/50\n",
            "313/313 [==============================] - 1s 2ms/step - loss: 131457238433792.0000 - val_loss: 122624562692096.0000\n",
            "79/79 [==============================] - 0s 1ms/step\n",
            "Actual ID: 21787961 Predicted ID: 4601461.0\n",
            "Actual ID: 24139749 Predicted ID: 20601724.0\n",
            "Actual ID: 21795104 Predicted ID: 28605118.0\n",
            "Actual ID: 21791158 Predicted ID: 20846850.0\n",
            "Actual ID: 24137929 Predicted ID: 17808870.0\n"
          ]
        }
      ]
    },
    {
      "cell_type": "code",
      "source": [
        "print(X_val)"
      ],
      "metadata": {
        "colab": {
          "base_uri": "https://localhost:8080/"
        },
        "id": "BDjnlyA2djly",
        "outputId": "3ad1cb5f-e98c-4249-9092-b8495ed33851"
      },
      "execution_count": 173,
      "outputs": [
        {
          "output_type": "stream",
          "name": "stdout",
          "text": [
            "       bank_transaction_description  bank_transaction_amount  \\\n",
            "1766                           1357                -0.871672   \n",
            "11919                          6244                 1.091203   \n",
            "8909                           8675                 1.162254   \n",
            "4963                           6278                 0.358113   \n",
            "10099                          5348                -0.944051   \n",
            "...                             ...                      ...   \n",
            "12493                          2121                -0.255451   \n",
            "9296                           1720                -0.291973   \n",
            "6085                           5710                 1.062649   \n",
            "3883                           8008                -0.758787   \n",
            "10372                          8661                -1.233569   \n",
            "\n",
            "       bank_transaction_type  \n",
            "1766                       3  \n",
            "11919                      0  \n",
            "8909                       0  \n",
            "4963                       4  \n",
            "10099                      5  \n",
            "...                      ...  \n",
            "12493                      2  \n",
            "9296                       2  \n",
            "6085                       3  \n",
            "3883                       3  \n",
            "10372                      3  \n",
            "\n",
            "[2500 rows x 3 columns]\n"
          ]
        }
      ]
    },
    {
      "cell_type": "code",
      "source": [
        "# Create a new validation sample\n",
        "new_val_sample = pd.DataFrame({\n",
        "    'bank_transaction_description': ['travelodge'],\n",
        "    'bank_transaction_type': ['MFO'],\n",
        "    'bank_transaction_amount': [-75.73]\n",
        "})\n",
        "\n",
        "# Preprocess the new validation sample\n",
        "le = LabelEncoder()\n",
        "new_val_sample['bank_transaction_description'] = le.fit_transform(new_val_sample['bank_transaction_description'])\n",
        "new_val_sample['bank_transaction_type'] = le.fit_transform(new_val_sample['bank_transaction_type'])\n",
        "\n",
        "scaler = StandardScaler()\n",
        "new_val_sample['bank_transaction_amount'] = scaler.fit_transform(new_val_sample['bank_transaction_amount'].values.reshape(-1, 1))\n",
        "\n",
        "# Make predictions on the new validation sample\n",
        "predictions = model.predict(new_val_sample)\n",
        "\n",
        "# Print the predicted transaction ID\n",
        "print('Predicted ID:', predictions[0][0])"
      ],
      "metadata": {
        "colab": {
          "base_uri": "https://localhost:8080/"
        },
        "id": "3ALKEZRXgxeP",
        "outputId": "a7a3d72d-11e8-47b1-cbd4-c5c2c467415e"
      },
      "execution_count": 184,
      "outputs": [
        {
          "output_type": "stream",
          "name": "stdout",
          "text": [
            "1/1 [==============================] - 0s 22ms/step\n",
            "Predicted ID: 37166.17\n"
          ]
        }
      ]
    },
    {
      "cell_type": "code",
      "source": [
        "import pandas as pd\n",
        "import numpy as np\n",
        "data = pd.read_csv('/content/drive/MyDrive/bank_transaction_features.csv')\n",
        "messages = []\n",
        "labels = []\n",
        "for index, row in data.iterrows():\n",
        "    messages.append(row['Message'])\n",
        "    if row['Category'] == 'ham':\n",
        "        labels.append(0)\n",
        "    else:\n",
        "        labels.append(1)\n",
        "messages = np.asarray(messages)\n",
        "labels = np.asarray(labels)"
      ],
      "metadata": {
        "colab": {
          "base_uri": "https://localhost:8080/",
          "height": 528
        },
        "id": "vZklVJftjLq1",
        "outputId": "e7cd093c-d52e-4573-ec54-40b0db0d92a5"
      },
      "execution_count": 185,
      "outputs": [
        {
          "output_type": "error",
          "ename": "KeyError",
          "evalue": "ignored",
          "traceback": [
            "\u001b[0;31m---------------------------------------------------------------------------\u001b[0m",
            "\u001b[0;31mKeyError\u001b[0m                                  Traceback (most recent call last)",
            "\u001b[0;32m/usr/local/lib/python3.10/dist-packages/pandas/core/indexes/base.py\u001b[0m in \u001b[0;36mget_loc\u001b[0;34m(self, key, method, tolerance)\u001b[0m\n\u001b[1;32m   3801\u001b[0m             \u001b[0;32mtry\u001b[0m\u001b[0;34m:\u001b[0m\u001b[0;34m\u001b[0m\u001b[0;34m\u001b[0m\u001b[0m\n\u001b[0;32m-> 3802\u001b[0;31m                 \u001b[0;32mreturn\u001b[0m \u001b[0mself\u001b[0m\u001b[0;34m.\u001b[0m\u001b[0m_engine\u001b[0m\u001b[0;34m.\u001b[0m\u001b[0mget_loc\u001b[0m\u001b[0;34m(\u001b[0m\u001b[0mcasted_key\u001b[0m\u001b[0;34m)\u001b[0m\u001b[0;34m\u001b[0m\u001b[0;34m\u001b[0m\u001b[0m\n\u001b[0m\u001b[1;32m   3803\u001b[0m             \u001b[0;32mexcept\u001b[0m \u001b[0mKeyError\u001b[0m \u001b[0;32mas\u001b[0m \u001b[0merr\u001b[0m\u001b[0;34m:\u001b[0m\u001b[0;34m\u001b[0m\u001b[0;34m\u001b[0m\u001b[0m\n",
            "\u001b[0;32m/usr/local/lib/python3.10/dist-packages/pandas/_libs/index.pyx\u001b[0m in \u001b[0;36mpandas._libs.index.IndexEngine.get_loc\u001b[0;34m()\u001b[0m\n",
            "\u001b[0;32m/usr/local/lib/python3.10/dist-packages/pandas/_libs/index.pyx\u001b[0m in \u001b[0;36mpandas._libs.index.IndexEngine.get_loc\u001b[0;34m()\u001b[0m\n",
            "\u001b[0;32mpandas/_libs/hashtable_class_helper.pxi\u001b[0m in \u001b[0;36mpandas._libs.hashtable.PyObjectHashTable.get_item\u001b[0;34m()\u001b[0m\n",
            "\u001b[0;32mpandas/_libs/hashtable_class_helper.pxi\u001b[0m in \u001b[0;36mpandas._libs.hashtable.PyObjectHashTable.get_item\u001b[0;34m()\u001b[0m\n",
            "\u001b[0;31mKeyError\u001b[0m: 'Message'",
            "\nThe above exception was the direct cause of the following exception:\n",
            "\u001b[0;31mKeyError\u001b[0m                                  Traceback (most recent call last)",
            "\u001b[0;32m<ipython-input-185-c3f27a5c387d>\u001b[0m in \u001b[0;36m<cell line: 6>\u001b[0;34m()\u001b[0m\n\u001b[1;32m      5\u001b[0m \u001b[0mlabels\u001b[0m \u001b[0;34m=\u001b[0m \u001b[0;34m[\u001b[0m\u001b[0;34m]\u001b[0m\u001b[0;34m\u001b[0m\u001b[0;34m\u001b[0m\u001b[0m\n\u001b[1;32m      6\u001b[0m \u001b[0;32mfor\u001b[0m \u001b[0mindex\u001b[0m\u001b[0;34m,\u001b[0m \u001b[0mrow\u001b[0m \u001b[0;32min\u001b[0m \u001b[0mdata\u001b[0m\u001b[0;34m.\u001b[0m\u001b[0miterrows\u001b[0m\u001b[0;34m(\u001b[0m\u001b[0;34m)\u001b[0m\u001b[0;34m:\u001b[0m\u001b[0;34m\u001b[0m\u001b[0;34m\u001b[0m\u001b[0m\n\u001b[0;32m----> 7\u001b[0;31m     \u001b[0mmessages\u001b[0m\u001b[0;34m.\u001b[0m\u001b[0mappend\u001b[0m\u001b[0;34m(\u001b[0m\u001b[0mrow\u001b[0m\u001b[0;34m[\u001b[0m\u001b[0;34m'Message'\u001b[0m\u001b[0;34m]\u001b[0m\u001b[0;34m)\u001b[0m\u001b[0;34m\u001b[0m\u001b[0;34m\u001b[0m\u001b[0m\n\u001b[0m\u001b[1;32m      8\u001b[0m     \u001b[0;32mif\u001b[0m \u001b[0mrow\u001b[0m\u001b[0;34m[\u001b[0m\u001b[0;34m'Category'\u001b[0m\u001b[0;34m]\u001b[0m \u001b[0;34m==\u001b[0m \u001b[0;34m'ham'\u001b[0m\u001b[0;34m:\u001b[0m\u001b[0;34m\u001b[0m\u001b[0;34m\u001b[0m\u001b[0m\n\u001b[1;32m      9\u001b[0m         \u001b[0mlabels\u001b[0m\u001b[0;34m.\u001b[0m\u001b[0mappend\u001b[0m\u001b[0;34m(\u001b[0m\u001b[0;36m0\u001b[0m\u001b[0;34m)\u001b[0m\u001b[0;34m\u001b[0m\u001b[0;34m\u001b[0m\u001b[0m\n",
            "\u001b[0;32m/usr/local/lib/python3.10/dist-packages/pandas/core/series.py\u001b[0m in \u001b[0;36m__getitem__\u001b[0;34m(self, key)\u001b[0m\n\u001b[1;32m    979\u001b[0m \u001b[0;34m\u001b[0m\u001b[0m\n\u001b[1;32m    980\u001b[0m         \u001b[0;32melif\u001b[0m \u001b[0mkey_is_scalar\u001b[0m\u001b[0;34m:\u001b[0m\u001b[0;34m\u001b[0m\u001b[0;34m\u001b[0m\u001b[0m\n\u001b[0;32m--> 981\u001b[0;31m             \u001b[0;32mreturn\u001b[0m \u001b[0mself\u001b[0m\u001b[0;34m.\u001b[0m\u001b[0m_get_value\u001b[0m\u001b[0;34m(\u001b[0m\u001b[0mkey\u001b[0m\u001b[0;34m)\u001b[0m\u001b[0;34m\u001b[0m\u001b[0;34m\u001b[0m\u001b[0m\n\u001b[0m\u001b[1;32m    982\u001b[0m \u001b[0;34m\u001b[0m\u001b[0m\n\u001b[1;32m    983\u001b[0m         \u001b[0;32mif\u001b[0m \u001b[0mis_hashable\u001b[0m\u001b[0;34m(\u001b[0m\u001b[0mkey\u001b[0m\u001b[0;34m)\u001b[0m\u001b[0;34m:\u001b[0m\u001b[0;34m\u001b[0m\u001b[0;34m\u001b[0m\u001b[0m\n",
            "\u001b[0;32m/usr/local/lib/python3.10/dist-packages/pandas/core/series.py\u001b[0m in \u001b[0;36m_get_value\u001b[0;34m(self, label, takeable)\u001b[0m\n\u001b[1;32m   1087\u001b[0m \u001b[0;34m\u001b[0m\u001b[0m\n\u001b[1;32m   1088\u001b[0m         \u001b[0;31m# Similar to Index.get_value, but we do not fall back to positional\u001b[0m\u001b[0;34m\u001b[0m\u001b[0;34m\u001b[0m\u001b[0m\n\u001b[0;32m-> 1089\u001b[0;31m         \u001b[0mloc\u001b[0m \u001b[0;34m=\u001b[0m \u001b[0mself\u001b[0m\u001b[0;34m.\u001b[0m\u001b[0mindex\u001b[0m\u001b[0;34m.\u001b[0m\u001b[0mget_loc\u001b[0m\u001b[0;34m(\u001b[0m\u001b[0mlabel\u001b[0m\u001b[0;34m)\u001b[0m\u001b[0;34m\u001b[0m\u001b[0;34m\u001b[0m\u001b[0m\n\u001b[0m\u001b[1;32m   1090\u001b[0m         \u001b[0;32mreturn\u001b[0m \u001b[0mself\u001b[0m\u001b[0;34m.\u001b[0m\u001b[0mindex\u001b[0m\u001b[0;34m.\u001b[0m\u001b[0m_get_values_for_loc\u001b[0m\u001b[0;34m(\u001b[0m\u001b[0mself\u001b[0m\u001b[0;34m,\u001b[0m \u001b[0mloc\u001b[0m\u001b[0;34m,\u001b[0m \u001b[0mlabel\u001b[0m\u001b[0;34m)\u001b[0m\u001b[0;34m\u001b[0m\u001b[0;34m\u001b[0m\u001b[0m\n\u001b[1;32m   1091\u001b[0m \u001b[0;34m\u001b[0m\u001b[0m\n",
            "\u001b[0;32m/usr/local/lib/python3.10/dist-packages/pandas/core/indexes/base.py\u001b[0m in \u001b[0;36mget_loc\u001b[0;34m(self, key, method, tolerance)\u001b[0m\n\u001b[1;32m   3802\u001b[0m                 \u001b[0;32mreturn\u001b[0m \u001b[0mself\u001b[0m\u001b[0;34m.\u001b[0m\u001b[0m_engine\u001b[0m\u001b[0;34m.\u001b[0m\u001b[0mget_loc\u001b[0m\u001b[0;34m(\u001b[0m\u001b[0mcasted_key\u001b[0m\u001b[0;34m)\u001b[0m\u001b[0;34m\u001b[0m\u001b[0;34m\u001b[0m\u001b[0m\n\u001b[1;32m   3803\u001b[0m             \u001b[0;32mexcept\u001b[0m \u001b[0mKeyError\u001b[0m \u001b[0;32mas\u001b[0m \u001b[0merr\u001b[0m\u001b[0;34m:\u001b[0m\u001b[0;34m\u001b[0m\u001b[0;34m\u001b[0m\u001b[0m\n\u001b[0;32m-> 3804\u001b[0;31m                 \u001b[0;32mraise\u001b[0m \u001b[0mKeyError\u001b[0m\u001b[0;34m(\u001b[0m\u001b[0mkey\u001b[0m\u001b[0;34m)\u001b[0m \u001b[0;32mfrom\u001b[0m \u001b[0merr\u001b[0m\u001b[0;34m\u001b[0m\u001b[0;34m\u001b[0m\u001b[0m\n\u001b[0m\u001b[1;32m   3805\u001b[0m             \u001b[0;32mexcept\u001b[0m \u001b[0mTypeError\u001b[0m\u001b[0;34m:\u001b[0m\u001b[0;34m\u001b[0m\u001b[0;34m\u001b[0m\u001b[0m\n\u001b[1;32m   3806\u001b[0m                 \u001b[0;31m# If we have a listlike key, _check_indexing_error will raise\u001b[0m\u001b[0;34m\u001b[0m\u001b[0;34m\u001b[0m\u001b[0m\n",
            "\u001b[0;31mKeyError\u001b[0m: 'Message'"
          ]
        }
      ]
    }
  ],
  "metadata": {
    "kernelspec": {
      "display_name": "Python 3",
      "language": "python",
      "name": "python3"
    },
    "language_info": {
      "codemirror_mode": {
        "name": "ipython",
        "version": 3
      },
      "file_extension": ".py",
      "mimetype": "text/x-python",
      "name": "python",
      "nbconvert_exporter": "python",
      "pygments_lexer": "ipython3",
      "version": "3.7.9"
    },
    "colab": {
      "provenance": []
    }
  },
  "nbformat": 4,
  "nbformat_minor": 0
}